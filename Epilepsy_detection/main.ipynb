{
 "cells": [
  {
   "cell_type": "code",
   "execution_count": 2,
   "id": "2daa58b9-6670-4783-8150-3916fb9d3e8a",
   "metadata": {},
   "outputs": [
    {
     "name": "stdout",
     "output_type": "stream",
     "text": [
      "Patient_1  Patient_1.zip  Untitled.ipynb\n"
     ]
    }
   ],
   "source": [
    "!dir"
   ]
  },
  {
   "cell_type": "code",
   "execution_count": 9,
   "id": "a98f775f-99c8-4591-849f-5e4d57063209",
   "metadata": {},
   "outputs": [
    {
     "name": "stdout",
     "output_type": "stream",
     "text": [
      "['Patient_1_test_segment_0063.mat', 'Patient_1_test_segment_0055.mat', 'Patient_1_test_segment_0058.mat', 'Patient_1_test_segment_0185.mat', 'Patient_1_interictal_segment_0036.mat', 'Patient_1_preictal_segment_0011.mat', 'Patient_1_test_segment_0068.mat', 'Patient_1_test_segment_0085.mat', 'Patient_1_test_segment_0194.mat', 'Patient_1_test_segment_0007.mat', 'Patient_1_test_segment_0176.mat', 'Patient_1_test_segment_0175.mat', 'Patient_1_interictal_segment_0005.mat', 'Patient_1_test_segment_0079.mat', 'Patient_1_preictal_segment_0004.mat', 'Patient_1_test_segment_0130.mat', 'Patient_1_test_segment_0132.mat', 'Patient_1_test_segment_0044.mat', 'Patient_1_test_segment_0008.mat', 'Patient_1_interictal_segment_0018.mat', 'Patient_1_interictal_segment_0026.mat', 'Patient_1_test_segment_0192.mat', 'Patient_1_test_segment_0002.mat', 'Patient_1_preictal_segment_0007.mat', 'Patient_1_preictal_segment_0010.mat', 'Patient_1_interictal_segment_0006.mat', 'Patient_1_test_segment_0112.mat', 'Patient_1_test_segment_0142.mat', 'Patient_1_preictal_segment_0002.mat', 'Patient_1_interictal_segment_0035.mat', 'Patient_1_interictal_segment_0015.mat', 'Patient_1_test_segment_0077.mat', 'Patient_1_test_segment_0153.mat', 'Patient_1_test_segment_0147.mat', 'Patient_1_test_segment_0170.mat', 'Patient_1_test_segment_0001.mat', 'Patient_1_interictal_segment_0011.mat', 'Patient_1_preictal_segment_0006.mat', 'Patient_1_test_segment_0096.mat', 'Patient_1_interictal_segment_0028.mat', 'Patient_1_test_segment_0090.mat', 'Patient_1_test_segment_0027.mat', 'Patient_1_test_segment_0160.mat', 'Patient_1_test_segment_0127.mat', 'Patient_1_test_segment_0154.mat', 'Patient_1_test_segment_0082.mat', 'Patient_1_interictal_segment_0048.mat', 'Patient_1_interictal_segment_0003.mat', 'Patient_1_test_segment_0125.mat', 'Patient_1_preictal_segment_0001.mat', 'Patient_1_interictal_segment_0029.mat', 'Patient_1_test_segment_0131.mat', 'Patient_1_test_segment_0092.mat', 'Patient_1_test_segment_0100.mat', 'Patient_1_test_segment_0182.mat', 'Patient_1_preictal_segment_0013.mat', 'Patient_1_test_segment_0133.mat', 'Patient_1_test_segment_0140.mat', 'Patient_1_test_segment_0015.mat', 'Patient_1_test_segment_0166.mat', 'Patient_1_test_segment_0146.mat', 'Patient_1_preictal_segment_0018.mat', 'Patient_1_test_segment_0066.mat', 'Patient_1_test_segment_0074.mat', 'Patient_1_test_segment_0046.mat', 'Patient_1_test_segment_0040.mat', 'Patient_1_test_segment_0018.mat', 'Patient_1_test_segment_0102.mat', 'Patient_1_test_segment_0011.mat', 'Patient_1_interictal_segment_0030.mat', 'Patient_1_test_segment_0164.mat', 'Patient_1_test_segment_0195.mat', 'Patient_1_test_segment_0118.mat', 'Patient_1_test_segment_0113.mat', 'Patient_1_test_segment_0159.mat', 'Patient_1_test_segment_0053.mat', 'Patient_1_test_segment_0051.mat', 'Patient_1_test_segment_0083.mat', 'Patient_1_test_segment_0052.mat', 'Patient_1_interictal_segment_0025.mat', 'Patient_1_test_segment_0089.mat', 'Patient_1_test_segment_0097.mat', 'Patient_1_interictal_segment_0008.mat', 'Patient_1_interictal_segment_0024.mat', 'Patient_1_test_segment_0024.mat', 'Patient_1_test_segment_0059.mat', 'Patient_1_test_segment_0045.mat', 'Patient_1_test_segment_0036.mat', 'Patient_1_test_segment_0035.mat', 'Patient_1_test_segment_0043.mat', 'Patient_1_test_segment_0030.mat', 'Patient_1_test_segment_0106.mat', 'Patient_1_test_segment_0017.mat', 'Patient_1_test_segment_0120.mat', 'Patient_1_test_segment_0064.mat', 'Patient_1_interictal_segment_0044.mat', 'Patient_1_test_segment_0181.mat', 'Patient_1_interictal_segment_0049.mat', 'Patient_1_interictal_segment_0007.mat', 'Patient_1_test_segment_0191.mat', 'Patient_1_test_segment_0028.mat', 'Patient_1_interictal_segment_0031.mat', 'Patient_1_test_segment_0187.mat', 'Patient_1_test_segment_0129.mat', 'Patient_1_test_segment_0172.mat', 'Patient_1_interictal_segment_0050.mat', 'Patient_1_test_segment_0004.mat', 'Patient_1_interictal_segment_0022.mat', 'Patient_1_test_segment_0020.mat', 'Patient_1_test_segment_0087.mat', 'Patient_1_test_segment_0041.mat', 'Patient_1_test_segment_0025.mat', 'Patient_1_test_segment_0128.mat', 'Patient_1_test_segment_0161.mat', 'Patient_1_interictal_segment_0013.mat', 'Patient_1_test_segment_0076.mat', 'Patient_1_test_segment_0107.mat', 'Patient_1_test_segment_0084.mat', 'Patient_1_preictal_segment_0008.mat', 'Patient_1_test_segment_0115.mat', 'Patient_1_test_segment_0050.mat', 'Patient_1_test_segment_0144.mat', 'Patient_1_test_segment_0184.mat', 'Patient_1_interictal_segment_0046.mat', 'Patient_1_test_segment_0155.mat', 'Patient_1_test_segment_0183.mat', 'Patient_1_test_segment_0121.mat', 'Patient_1_test_segment_0165.mat', 'Patient_1_test_segment_0086.mat', 'Patient_1_test_segment_0022.mat', 'Patient_1_test_segment_0151.mat', 'Patient_1_test_segment_0009.mat', 'Patient_1_test_segment_0169.mat', 'Patient_1_test_segment_0014.mat', 'Patient_1_test_segment_0032.mat', 'Patient_1_interictal_segment_0037.mat', 'Patient_1_test_segment_0042.mat', 'Patient_1_test_segment_0038.mat', 'Patient_1_test_segment_0152.mat', 'Patient_1_interictal_segment_0041.mat', 'Patient_1_test_segment_0193.mat', 'Patient_1_test_segment_0177.mat', 'Patient_1_interictal_segment_0020.mat', 'Patient_1_test_segment_0186.mat', 'Patient_1_test_segment_0138.mat', 'Patient_1_test_segment_0103.mat', 'Patient_1_test_segment_0034.mat', 'Patient_1_test_segment_0150.mat', 'Patient_1_test_segment_0110.mat', 'Patient_1_test_segment_0056.mat', 'Patient_1_test_segment_0114.mat', 'Patient_1_test_segment_0105.mat', 'Patient_1_test_segment_0049.mat', 'Patient_1_test_segment_0026.mat', 'Patient_1_test_segment_0108.mat', 'Patient_1_preictal_segment_0003.mat', 'Patient_1_interictal_segment_0023.mat', 'Patient_1_test_segment_0179.mat', 'Patient_1_test_segment_0075.mat', 'Patient_1_interictal_segment_0040.mat', 'Patient_1_test_segment_0012.mat', 'Patient_1_test_segment_0117.mat', 'Patient_1_test_segment_0088.mat', 'Patient_1_test_segment_0003.mat', 'Patient_1_test_segment_0072.mat', 'Patient_1_test_segment_0095.mat', 'Patient_1_test_segment_0099.mat', 'Patient_1_test_segment_0023.mat', 'Patient_1_interictal_segment_0012.mat', 'Patient_1_test_segment_0104.mat', 'Patient_1_test_segment_0013.mat', 'Patient_1_test_segment_0091.mat', 'Patient_1_interictal_segment_0002.mat', 'Patient_1_test_segment_0039.mat', 'Patient_1_test_segment_0136.mat', 'Patient_1_test_segment_0047.mat', 'Patient_1_test_segment_0093.mat', 'Patient_1_test_segment_0069.mat', 'Patient_1_interictal_segment_0004.mat', 'Patient_1_interictal_segment_0034.mat', 'Patient_1_test_segment_0048.mat', 'Patient_1_test_segment_0123.mat', 'Patient_1_test_segment_0124.mat', 'Patient_1_test_segment_0033.mat', 'Patient_1_test_segment_0158.mat', 'Patient_1_test_segment_0067.mat', 'Patient_1_preictal_segment_0017.mat', 'Patient_1_test_segment_0101.mat', 'Patient_1_preictal_segment_0005.mat', 'Patient_1_test_segment_0149.mat', 'Patient_1_test_segment_0061.mat', 'Patient_1_interictal_segment_0001.mat', 'Patient_1_test_segment_0134.mat', 'Patient_1_test_segment_0005.mat', 'Patient_1_test_segment_0162.mat', 'Patient_1_test_segment_0139.mat', 'Patient_1_interictal_segment_0042.mat', 'Patient_1_test_segment_0016.mat', 'Patient_1_test_segment_0031.mat', 'Patient_1_preictal_segment_0012.mat', 'Patient_1_test_segment_0188.mat', 'Patient_1_test_segment_0119.mat', 'Patient_1_test_segment_0171.mat', 'Patient_1_test_segment_0062.mat', 'Patient_1_interictal_segment_0032.mat', 'Patient_1_interictal_segment_0019.mat', 'Patient_1_interictal_segment_0043.mat', 'Patient_1_test_segment_0060.mat', 'Patient_1_test_segment_0145.mat', 'Patient_1_test_segment_0029.mat', 'Patient_1_interictal_segment_0021.mat', 'Patient_1_test_segment_0054.mat', 'Patient_1_test_segment_0098.mat', 'Patient_1_interictal_segment_0010.mat', 'Patient_1_test_segment_0019.mat', 'Patient_1_test_segment_0168.mat', 'Patient_1_test_segment_0071.mat', 'Patient_1_interictal_segment_0014.mat', 'Patient_1_preictal_segment_0009.mat', 'Patient_1_test_segment_0180.mat', 'Patient_1_test_segment_0190.mat', 'Patient_1_test_segment_0174.mat', 'Patient_1_test_segment_0148.mat', 'Patient_1_preictal_segment_0016.mat', 'Patient_1_test_segment_0080.mat', 'Patient_1_test_segment_0021.mat', 'Patient_1_test_segment_0111.mat', 'Patient_1_test_segment_0122.mat', 'Patient_1_test_segment_0094.mat', 'Patient_1_interictal_segment_0027.mat', 'Patient_1_test_segment_0141.mat', 'Patient_1_test_segment_0189.mat', 'Patient_1_test_segment_0156.mat', 'Patient_1_interictal_segment_0045.mat', 'Patient_1_test_segment_0109.mat', 'Patient_1_test_segment_0010.mat', 'Patient_1_interictal_segment_0047.mat', 'Patient_1_test_segment_0167.mat', 'Patient_1_test_segment_0143.mat', 'Patient_1_test_segment_0126.mat', 'Patient_1_test_segment_0178.mat', 'Patient_1_test_segment_0057.mat', 'Patient_1_preictal_segment_0015.mat', 'Patient_1_preictal_segment_0014.mat', 'Patient_1_test_segment_0081.mat', 'Patient_1_test_segment_0070.mat', 'Patient_1_test_segment_0116.mat', 'Patient_1_test_segment_0157.mat', 'Patient_1_test_segment_0173.mat', 'Patient_1_interictal_segment_0016.mat', 'Patient_1_test_segment_0135.mat', 'Patient_1_test_segment_0065.mat', 'Patient_1_test_segment_0137.mat', 'Patient_1_test_segment_0006.mat', 'Patient_1_test_segment_0073.mat', 'Patient_1_interictal_segment_0038.mat', 'Patient_1_test_segment_0037.mat', 'Patient_1_interictal_segment_0009.mat', 'Patient_1_interictal_segment_0017.mat', 'Patient_1_interictal_segment_0033.mat', 'Patient_1_test_segment_0078.mat', 'Patient_1_interictal_segment_0039.mat', 'Patient_1_test_segment_0163.mat']\n"
     ]
    }
   ],
   "source": [
    "import os\n",
    "\n",
    "# Change directory\n",
    "os.chdir('Patient_1')\n",
    "\n",
    "# List files in the current directory\n",
    "files = os.listdir()\n",
    "print(files)\n"
   ]
  },
  {
   "cell_type": "code",
   "execution_count": 15,
   "id": "5a204ce6-9d29-46a6-84ac-caef495b56ea",
   "metadata": {},
   "outputs": [
    {
     "name": "stdout",
     "output_type": "stream",
     "text": [
      "File Patient_1/Patient_1_test_segment_0063.mat not found.\n",
      "File Patient_1/Patient_1_test_segment_0055.mat not found.\n",
      "File Patient_1/Patient_1_test_segment_0058.mat not found.\n",
      "File Patient_1/Patient_1_test_segment_0185.mat not found.\n",
      "File Patient_1/Patient_1_interictal_segment_0036.mat not found.\n",
      "File Patient_1/Patient_1_preictal_segment_0011.mat not found.\n",
      "File Patient_1/Patient_1_test_segment_0068.mat not found.\n",
      "File Patient_1/Patient_1_test_segment_0085.mat not found.\n",
      "File Patient_1/Patient_1_test_segment_0194.mat not found.\n",
      "File Patient_1/Patient_1_test_segment_0007.mat not found.\n",
      "File Patient_1/Patient_1_test_segment_0176.mat not found.\n",
      "File Patient_1/Patient_1_test_segment_0175.mat not found.\n",
      "File Patient_1/Patient_1_interictal_segment_0005.mat not found.\n",
      "File Patient_1/Patient_1_test_segment_0079.mat not found.\n",
      "File Patient_1/Patient_1_preictal_segment_0004.mat not found.\n",
      "File Patient_1/Patient_1_test_segment_0130.mat not found.\n",
      "File Patient_1/Patient_1_test_segment_0132.mat not found.\n",
      "File Patient_1/Patient_1_test_segment_0044.mat not found.\n",
      "File Patient_1/Patient_1_test_segment_0008.mat not found.\n",
      "File Patient_1/Patient_1_interictal_segment_0018.mat not found.\n",
      "File Patient_1/Patient_1_interictal_segment_0026.mat not found.\n",
      "File Patient_1/Patient_1_test_segment_0192.mat not found.\n",
      "File Patient_1/Patient_1_test_segment_0002.mat not found.\n",
      "File Patient_1/Patient_1_preictal_segment_0007.mat not found.\n",
      "File Patient_1/Patient_1_preictal_segment_0010.mat not found.\n",
      "File Patient_1/Patient_1_interictal_segment_0006.mat not found.\n",
      "File Patient_1/Patient_1_test_segment_0112.mat not found.\n",
      "File Patient_1/Patient_1_test_segment_0142.mat not found.\n",
      "File Patient_1/Patient_1_preictal_segment_0002.mat not found.\n",
      "File Patient_1/Patient_1_interictal_segment_0035.mat not found.\n",
      "File Patient_1/Patient_1_interictal_segment_0015.mat not found.\n",
      "File Patient_1/Patient_1_test_segment_0077.mat not found.\n",
      "File Patient_1/Patient_1_test_segment_0153.mat not found.\n",
      "File Patient_1/Patient_1_test_segment_0147.mat not found.\n",
      "File Patient_1/Patient_1_test_segment_0170.mat not found.\n",
      "File Patient_1/Patient_1_test_segment_0001.mat not found.\n",
      "File Patient_1/Patient_1_interictal_segment_0011.mat not found.\n",
      "File Patient_1/Patient_1_preictal_segment_0006.mat not found.\n",
      "File Patient_1/Patient_1_test_segment_0096.mat not found.\n",
      "File Patient_1/Patient_1_interictal_segment_0028.mat not found.\n",
      "File Patient_1/Patient_1_test_segment_0090.mat not found.\n",
      "File Patient_1/Patient_1_test_segment_0027.mat not found.\n",
      "File Patient_1/Patient_1_test_segment_0160.mat not found.\n",
      "File Patient_1/Patient_1_test_segment_0127.mat not found.\n",
      "File Patient_1/Patient_1_test_segment_0154.mat not found.\n",
      "File Patient_1/Patient_1_test_segment_0082.mat not found.\n",
      "File Patient_1/Patient_1_interictal_segment_0048.mat not found.\n",
      "File Patient_1/Patient_1_interictal_segment_0003.mat not found.\n",
      "File Patient_1/Patient_1_test_segment_0125.mat not found.\n",
      "File Patient_1/Patient_1_preictal_segment_0001.mat not found.\n",
      "File Patient_1/Patient_1_interictal_segment_0029.mat not found.\n",
      "File Patient_1/Patient_1_test_segment_0131.mat not found.\n",
      "File Patient_1/Patient_1_test_segment_0092.mat not found.\n",
      "File Patient_1/Patient_1_test_segment_0100.mat not found.\n",
      "File Patient_1/Patient_1_test_segment_0182.mat not found.\n",
      "File Patient_1/Patient_1_preictal_segment_0013.mat not found.\n",
      "File Patient_1/Patient_1_test_segment_0133.mat not found.\n",
      "File Patient_1/Patient_1_test_segment_0140.mat not found.\n",
      "File Patient_1/Patient_1_test_segment_0015.mat not found.\n",
      "File Patient_1/Patient_1_test_segment_0166.mat not found.\n",
      "File Patient_1/Patient_1_test_segment_0146.mat not found.\n",
      "File Patient_1/Patient_1_preictal_segment_0018.mat not found.\n",
      "File Patient_1/Patient_1_test_segment_0066.mat not found.\n",
      "File Patient_1/Patient_1_test_segment_0074.mat not found.\n",
      "File Patient_1/Patient_1_test_segment_0046.mat not found.\n",
      "File Patient_1/Patient_1_test_segment_0040.mat not found.\n",
      "File Patient_1/Patient_1_test_segment_0018.mat not found.\n",
      "File Patient_1/Patient_1_test_segment_0102.mat not found.\n",
      "File Patient_1/Patient_1_test_segment_0011.mat not found.\n",
      "File Patient_1/Patient_1_interictal_segment_0030.mat not found.\n",
      "File Patient_1/Patient_1_test_segment_0164.mat not found.\n",
      "File Patient_1/Patient_1_test_segment_0195.mat not found.\n",
      "File Patient_1/Patient_1_test_segment_0118.mat not found.\n",
      "File Patient_1/Patient_1_test_segment_0113.mat not found.\n",
      "File Patient_1/Patient_1_test_segment_0159.mat not found.\n",
      "File Patient_1/Patient_1_test_segment_0053.mat not found.\n",
      "File Patient_1/Patient_1_test_segment_0051.mat not found.\n",
      "File Patient_1/Patient_1_test_segment_0083.mat not found.\n",
      "File Patient_1/Patient_1_test_segment_0052.mat not found.\n",
      "File Patient_1/Patient_1_interictal_segment_0025.mat not found.\n",
      "File Patient_1/Patient_1_test_segment_0089.mat not found.\n",
      "File Patient_1/Patient_1_test_segment_0097.mat not found.\n",
      "File Patient_1/Patient_1_interictal_segment_0008.mat not found.\n",
      "File Patient_1/Patient_1_interictal_segment_0024.mat not found.\n",
      "File Patient_1/Patient_1_test_segment_0024.mat not found.\n",
      "File Patient_1/Patient_1_test_segment_0059.mat not found.\n",
      "File Patient_1/Patient_1_test_segment_0045.mat not found.\n",
      "File Patient_1/Patient_1_test_segment_0036.mat not found.\n",
      "File Patient_1/Patient_1_test_segment_0035.mat not found.\n",
      "File Patient_1/Patient_1_test_segment_0043.mat not found.\n",
      "File Patient_1/Patient_1_test_segment_0030.mat not found.\n",
      "File Patient_1/Patient_1_test_segment_0106.mat not found.\n",
      "File Patient_1/Patient_1_test_segment_0017.mat not found.\n",
      "File Patient_1/Patient_1_test_segment_0120.mat not found.\n",
      "File Patient_1/Patient_1_test_segment_0064.mat not found.\n",
      "File Patient_1/Patient_1_interictal_segment_0044.mat not found.\n",
      "File Patient_1/Patient_1_test_segment_0181.mat not found.\n",
      "File Patient_1/Patient_1_interictal_segment_0049.mat not found.\n",
      "File Patient_1/Patient_1_interictal_segment_0007.mat not found.\n",
      "File Patient_1/Patient_1_test_segment_0191.mat not found.\n",
      "File Patient_1/Patient_1_test_segment_0028.mat not found.\n",
      "File Patient_1/Patient_1_interictal_segment_0031.mat not found.\n",
      "File Patient_1/Patient_1_test_segment_0187.mat not found.\n",
      "File Patient_1/Patient_1_test_segment_0129.mat not found.\n",
      "File Patient_1/Patient_1_test_segment_0172.mat not found.\n",
      "File Patient_1/Patient_1_interictal_segment_0050.mat not found.\n",
      "File Patient_1/Patient_1_test_segment_0004.mat not found.\n",
      "File Patient_1/Patient_1_interictal_segment_0022.mat not found.\n",
      "File Patient_1/Patient_1_test_segment_0020.mat not found.\n",
      "File Patient_1/Patient_1_test_segment_0087.mat not found.\n",
      "File Patient_1/Patient_1_test_segment_0041.mat not found.\n",
      "File Patient_1/Patient_1_test_segment_0025.mat not found.\n",
      "File Patient_1/Patient_1_test_segment_0128.mat not found.\n",
      "File Patient_1/Patient_1_test_segment_0161.mat not found.\n",
      "File Patient_1/Patient_1_interictal_segment_0013.mat not found.\n",
      "File Patient_1/Patient_1_test_segment_0076.mat not found.\n",
      "File Patient_1/Patient_1_test_segment_0107.mat not found.\n",
      "File Patient_1/Patient_1_test_segment_0084.mat not found.\n",
      "File Patient_1/Patient_1_preictal_segment_0008.mat not found.\n",
      "File Patient_1/Patient_1_test_segment_0115.mat not found.\n",
      "File Patient_1/Patient_1_test_segment_0050.mat not found.\n",
      "File Patient_1/Patient_1_test_segment_0144.mat not found.\n",
      "File Patient_1/Patient_1_test_segment_0184.mat not found.\n",
      "File Patient_1/Patient_1_interictal_segment_0046.mat not found.\n",
      "File Patient_1/Patient_1_test_segment_0155.mat not found.\n",
      "File Patient_1/Patient_1_test_segment_0183.mat not found.\n",
      "File Patient_1/Patient_1_test_segment_0121.mat not found.\n",
      "File Patient_1/Patient_1_test_segment_0165.mat not found.\n",
      "File Patient_1/Patient_1_test_segment_0086.mat not found.\n",
      "File Patient_1/Patient_1_test_segment_0022.mat not found.\n",
      "File Patient_1/Patient_1_test_segment_0151.mat not found.\n",
      "File Patient_1/Patient_1_test_segment_0009.mat not found.\n",
      "File Patient_1/Patient_1_test_segment_0169.mat not found.\n",
      "File Patient_1/Patient_1_test_segment_0014.mat not found.\n",
      "File Patient_1/Patient_1_test_segment_0032.mat not found.\n",
      "File Patient_1/Patient_1_interictal_segment_0037.mat not found.\n",
      "File Patient_1/Patient_1_test_segment_0042.mat not found.\n",
      "File Patient_1/Patient_1_test_segment_0038.mat not found.\n",
      "File Patient_1/Patient_1_test_segment_0152.mat not found.\n",
      "File Patient_1/Patient_1_interictal_segment_0041.mat not found.\n",
      "File Patient_1/Patient_1_test_segment_0193.mat not found.\n",
      "File Patient_1/Patient_1_test_segment_0177.mat not found.\n",
      "File Patient_1/Patient_1_interictal_segment_0020.mat not found.\n",
      "File Patient_1/Patient_1_test_segment_0186.mat not found.\n",
      "File Patient_1/Patient_1_test_segment_0138.mat not found.\n",
      "File Patient_1/Patient_1_test_segment_0103.mat not found.\n",
      "File Patient_1/Patient_1_test_segment_0034.mat not found.\n",
      "File Patient_1/Patient_1_test_segment_0150.mat not found.\n",
      "File Patient_1/Patient_1_test_segment_0110.mat not found.\n",
      "File Patient_1/Patient_1_test_segment_0056.mat not found.\n",
      "File Patient_1/Patient_1_test_segment_0114.mat not found.\n",
      "File Patient_1/Patient_1_test_segment_0105.mat not found.\n",
      "File Patient_1/Patient_1_test_segment_0049.mat not found.\n",
      "File Patient_1/Patient_1_test_segment_0026.mat not found.\n",
      "File Patient_1/Patient_1_test_segment_0108.mat not found.\n",
      "File Patient_1/Patient_1_preictal_segment_0003.mat not found.\n",
      "File Patient_1/Patient_1_interictal_segment_0023.mat not found.\n",
      "File Patient_1/Patient_1_test_segment_0179.mat not found.\n",
      "File Patient_1/Patient_1_test_segment_0075.mat not found.\n",
      "File Patient_1/Patient_1_interictal_segment_0040.mat not found.\n",
      "File Patient_1/Patient_1_test_segment_0012.mat not found.\n",
      "File Patient_1/Patient_1_test_segment_0117.mat not found.\n",
      "File Patient_1/Patient_1_test_segment_0088.mat not found.\n",
      "File Patient_1/Patient_1_test_segment_0003.mat not found.\n",
      "File Patient_1/Patient_1_test_segment_0072.mat not found.\n",
      "File Patient_1/Patient_1_test_segment_0095.mat not found.\n",
      "File Patient_1/Patient_1_test_segment_0099.mat not found.\n",
      "File Patient_1/Patient_1_test_segment_0023.mat not found.\n",
      "File Patient_1/Patient_1_interictal_segment_0012.mat not found.\n",
      "File Patient_1/Patient_1_test_segment_0104.mat not found.\n",
      "File Patient_1/Patient_1_test_segment_0013.mat not found.\n",
      "File Patient_1/Patient_1_test_segment_0091.mat not found.\n",
      "File Patient_1/Patient_1_interictal_segment_0002.mat not found.\n",
      "File Patient_1/Patient_1_test_segment_0039.mat not found.\n",
      "File Patient_1/Patient_1_test_segment_0136.mat not found.\n",
      "File Patient_1/Patient_1_test_segment_0047.mat not found.\n",
      "File Patient_1/Patient_1_test_segment_0093.mat not found.\n",
      "File Patient_1/Patient_1_test_segment_0069.mat not found.\n",
      "File Patient_1/Patient_1_interictal_segment_0004.mat not found.\n",
      "File Patient_1/Patient_1_interictal_segment_0034.mat not found.\n",
      "File Patient_1/Patient_1_test_segment_0048.mat not found.\n",
      "File Patient_1/Patient_1_test_segment_0123.mat not found.\n",
      "File Patient_1/Patient_1_test_segment_0124.mat not found.\n",
      "File Patient_1/Patient_1_test_segment_0033.mat not found.\n",
      "File Patient_1/Patient_1_test_segment_0158.mat not found.\n",
      "File Patient_1/Patient_1_test_segment_0067.mat not found.\n",
      "File Patient_1/Patient_1_preictal_segment_0017.mat not found.\n",
      "File Patient_1/Patient_1_test_segment_0101.mat not found.\n",
      "File Patient_1/Patient_1_preictal_segment_0005.mat not found.\n",
      "File Patient_1/Patient_1_test_segment_0149.mat not found.\n",
      "File Patient_1/Patient_1_test_segment_0061.mat not found.\n",
      "File Patient_1/Patient_1_interictal_segment_0001.mat not found.\n",
      "File Patient_1/Patient_1_test_segment_0134.mat not found.\n",
      "File Patient_1/Patient_1_test_segment_0005.mat not found.\n",
      "File Patient_1/Patient_1_test_segment_0162.mat not found.\n",
      "File Patient_1/Patient_1_test_segment_0139.mat not found.\n",
      "File Patient_1/Patient_1_interictal_segment_0042.mat not found.\n",
      "File Patient_1/Patient_1_test_segment_0016.mat not found.\n",
      "File Patient_1/Patient_1_test_segment_0031.mat not found.\n",
      "File Patient_1/Patient_1_preictal_segment_0012.mat not found.\n",
      "File Patient_1/Patient_1_test_segment_0188.mat not found.\n",
      "File Patient_1/Patient_1_test_segment_0119.mat not found.\n",
      "File Patient_1/Patient_1_test_segment_0171.mat not found.\n",
      "File Patient_1/Patient_1_test_segment_0062.mat not found.\n",
      "File Patient_1/Patient_1_interictal_segment_0032.mat not found.\n",
      "File Patient_1/Patient_1_interictal_segment_0019.mat not found.\n",
      "File Patient_1/Patient_1_interictal_segment_0043.mat not found.\n",
      "File Patient_1/Patient_1_test_segment_0060.mat not found.\n",
      "File Patient_1/Patient_1_test_segment_0145.mat not found.\n",
      "File Patient_1/Patient_1_test_segment_0029.mat not found.\n",
      "File Patient_1/Patient_1_interictal_segment_0021.mat not found.\n",
      "File Patient_1/Patient_1_test_segment_0054.mat not found.\n",
      "File Patient_1/Patient_1_test_segment_0098.mat not found.\n",
      "File Patient_1/Patient_1_interictal_segment_0010.mat not found.\n",
      "File Patient_1/Patient_1_test_segment_0019.mat not found.\n",
      "File Patient_1/Patient_1_test_segment_0168.mat not found.\n",
      "File Patient_1/Patient_1_test_segment_0071.mat not found.\n",
      "File Patient_1/Patient_1_interictal_segment_0014.mat not found.\n",
      "File Patient_1/Patient_1_preictal_segment_0009.mat not found.\n",
      "File Patient_1/Patient_1_test_segment_0180.mat not found.\n",
      "File Patient_1/Patient_1_test_segment_0190.mat not found.\n",
      "File Patient_1/Patient_1_test_segment_0174.mat not found.\n",
      "File Patient_1/Patient_1_test_segment_0148.mat not found.\n",
      "File Patient_1/Patient_1_preictal_segment_0016.mat not found.\n",
      "File Patient_1/Patient_1_test_segment_0080.mat not found.\n",
      "File Patient_1/Patient_1_test_segment_0021.mat not found.\n",
      "File Patient_1/Patient_1_test_segment_0111.mat not found.\n",
      "File Patient_1/Patient_1_test_segment_0122.mat not found.\n",
      "File Patient_1/Patient_1_test_segment_0094.mat not found.\n",
      "File Patient_1/Patient_1_interictal_segment_0027.mat not found.\n",
      "File Patient_1/Patient_1_test_segment_0141.mat not found.\n",
      "File Patient_1/Patient_1_test_segment_0189.mat not found.\n",
      "File Patient_1/Patient_1_test_segment_0156.mat not found.\n",
      "File Patient_1/Patient_1_interictal_segment_0045.mat not found.\n",
      "File Patient_1/Patient_1_test_segment_0109.mat not found.\n",
      "File Patient_1/Patient_1_test_segment_0010.mat not found.\n",
      "File Patient_1/Patient_1_interictal_segment_0047.mat not found.\n",
      "File Patient_1/Patient_1_test_segment_0167.mat not found.\n",
      "File Patient_1/Patient_1_test_segment_0143.mat not found.\n",
      "File Patient_1/Patient_1_test_segment_0126.mat not found.\n",
      "File Patient_1/Patient_1_test_segment_0178.mat not found.\n",
      "File Patient_1/Patient_1_test_segment_0057.mat not found.\n",
      "File Patient_1/Patient_1_preictal_segment_0015.mat not found.\n",
      "File Patient_1/Patient_1_preictal_segment_0014.mat not found.\n",
      "File Patient_1/Patient_1_test_segment_0081.mat not found.\n",
      "File Patient_1/Patient_1_test_segment_0070.mat not found.\n",
      "File Patient_1/Patient_1_test_segment_0116.mat not found.\n",
      "File Patient_1/Patient_1_test_segment_0157.mat not found.\n",
      "File Patient_1/Patient_1_test_segment_0173.mat not found.\n",
      "File Patient_1/Patient_1_interictal_segment_0016.mat not found.\n",
      "File Patient_1/Patient_1_test_segment_0135.mat not found.\n",
      "File Patient_1/Patient_1_test_segment_0065.mat not found.\n",
      "File Patient_1/Patient_1_test_segment_0137.mat not found.\n",
      "File Patient_1/Patient_1_test_segment_0006.mat not found.\n",
      "File Patient_1/Patient_1_test_segment_0073.mat not found.\n",
      "File Patient_1/Patient_1_interictal_segment_0038.mat not found.\n",
      "File Patient_1/Patient_1_test_segment_0037.mat not found.\n",
      "File Patient_1/Patient_1_interictal_segment_0009.mat not found.\n",
      "File Patient_1/Patient_1_interictal_segment_0017.mat not found.\n",
      "File Patient_1/Patient_1_interictal_segment_0033.mat not found.\n",
      "File Patient_1/Patient_1_test_segment_0078.mat not found.\n",
      "File Patient_1/Patient_1_interictal_segment_0039.mat not found.\n",
      "File Patient_1/Patient_1_test_segment_0163.mat not found.\n"
     ]
    }
   ],
   "source": [
    "import os\n",
    "import scipy.io\n",
    "import matplotlib.pyplot as plt\n",
    "\n",
    "# Directory where your .mat files are located\n",
    "directory = 'Patient_1'\n",
    "\n",
    "# List of files in the directory\n",
    "mat_files = files\n",
    "\n",
    "# Function to load and print keys of a .mat file\n",
    "def load_and_visualize_mat(file_path):\n",
    "    try:\n",
    "        # Load the .mat file\n",
    "        mat_data = scipy.io.loadmat(file_path)\n",
    "        \n",
    "        # Print keys to understand the structure of the .mat file\n",
    "        print(f\"Keys for {file_path}: {mat_data.keys()}\")\n",
    "        \n",
    "        # Assuming the data is in a specific key like 'data', visualize it\n",
    "        # Modify this part based on the actual structure of your .mat files\n",
    "        data_key = 'data'  # Change this to the key that holds the relevant data\n",
    "        \n",
    "        if data_key in mat_data:\n",
    "            data = mat_data[data_key]\n",
    "            \n",
    "            # Example visualization (assuming 2D data)\n",
    "            plt.plot(data)\n",
    "            plt.title(f\"Data from {os.path.basename(file_path)}\")\n",
    "            plt.show()\n",
    "        else:\n",
    "            print(f\"No 'data' key found in {file_path}\")\n",
    "    \n",
    "    except FileNotFoundError:\n",
    "        print(f\"File {file_path} not found.\")\n",
    "\n",
    "# Loop through the .mat files and visualize each one\n",
    "for file in mat_files:\n",
    "    file_path = os.path.join(directory, file)\n",
    "    load_and_visualize_mat(file_path)\n"
   ]
  },
  {
   "cell_type": "code",
   "execution_count": 8,
   "id": "a8436101-e26e-4a36-80ce-8debbe94d334",
   "metadata": {},
   "outputs": [
    {
     "name": "stderr",
     "output_type": "stream",
     "text": [
      "2024-09-21 19:54:51.501921: I tensorflow/core/util/port.cc:153] oneDNN custom operations are on. You may see slightly different numerical results due to floating-point round-off errors from different computation orders. To turn them off, set the environment variable `TF_ENABLE_ONEDNN_OPTS=0`.\n",
      "2024-09-21 19:54:51.711349: E external/local_xla/xla/stream_executor/cuda/cuda_fft.cc:485] Unable to register cuFFT factory: Attempting to register factory for plugin cuFFT when one has already been registered\n",
      "2024-09-21 19:54:51.823042: E external/local_xla/xla/stream_executor/cuda/cuda_dnn.cc:8454] Unable to register cuDNN factory: Attempting to register factory for plugin cuDNN when one has already been registered\n",
      "2024-09-21 19:54:51.854816: E external/local_xla/xla/stream_executor/cuda/cuda_blas.cc:1452] Unable to register cuBLAS factory: Attempting to register factory for plugin cuBLAS when one has already been registered\n",
      "2024-09-21 19:54:52.012684: I tensorflow/core/platform/cpu_feature_guard.cc:210] This TensorFlow binary is optimized to use available CPU instructions in performance-critical operations.\n",
      "To enable the following instructions: AVX2 AVX512F AVX512_VNNI FMA, in other operations, rebuild TensorFlow with the appropriate compiler flags.\n"
     ]
    }
   ],
   "source": [
    "from __future__ import print_function\n",
    "import tensorflow as tf\n",
    "\n",
    "from tensorflow.keras.models import Sequential\n",
    "from tensorflow.keras.layers import Dense, Dropout, Flatten\n",
    "from tensorflow.keras.layers import Conv2D, MaxPooling2D\n",
    "#from keras import backend as K\n",
    "\n",
    "import random\n",
    "import numpy as np\n",
    "import pandas as pd\n",
    "\n",
    "import scipy.io\n",
    "from scipy.signal import spectrogram\n",
    "import matplotlib.pyplot as plt\n"
   ]
  },
  {
   "cell_type": "code",
   "execution_count": 17,
   "id": "c62e0032-d60e-412e-91dc-6d0af8ae065b",
   "metadata": {},
   "outputs": [
    {
     "ename": "FileNotFoundError",
     "evalue": "[Errno 2] No such file or directory: 'Patient_1'",
     "output_type": "error",
     "traceback": [
      "\u001b[0;31m---------------------------------------------------------------------------\u001b[0m",
      "\u001b[0;31mFileNotFoundError\u001b[0m                         Traceback (most recent call last)",
      "Cell \u001b[0;32mIn[17], line 3\u001b[0m\n\u001b[1;32m      1\u001b[0m \u001b[38;5;28;01mimport\u001b[39;00m \u001b[38;5;21;01mos\u001b[39;00m\n\u001b[0;32m----> 3\u001b[0m files \u001b[38;5;241m=\u001b[39m \u001b[43mos\u001b[49m\u001b[38;5;241;43m.\u001b[39;49m\u001b[43mlistdir\u001b[49m\u001b[43m(\u001b[49m\u001b[38;5;124;43m'\u001b[39;49m\u001b[38;5;124;43mPatient_1\u001b[39;49m\u001b[38;5;124;43m'\u001b[39;49m\u001b[43m)\u001b[49m\n\u001b[1;32m      4\u001b[0m \u001b[38;5;28mprint\u001b[39m(files)\n\u001b[1;32m      5\u001b[0m get_ipython()\u001b[38;5;241m.\u001b[39msystem(\u001b[38;5;124m'\u001b[39m\u001b[38;5;124mdir\u001b[39m\u001b[38;5;124m'\u001b[39m)\n",
      "\u001b[0;31mFileNotFoundError\u001b[0m: [Errno 2] No such file or directory: 'Patient_1'"
     ]
    }
   ],
   "source": [
    "import os\n",
    "\n",
    "files = os.listdir('Patient_1')\n",
    "print(files)\n"
   ]
  },
  {
   "cell_type": "code",
   "execution_count": 20,
   "id": "6089e168-86d5-46de-96ef-9e097af13c33",
   "metadata": {},
   "outputs": [
    {
     "name": "stdout",
     "output_type": "stream",
     "text": [
      "{'__header__': b'MATLAB 5.0 MAT-file, Platform: MACI64, Created on: Thu Aug 21 01:00:00 2014', '__version__': '1.0', '__globals__': [], 'interictal_segment_1': array([[(array([[ 122,  122,  122, ...,   34,   33,   31],\n",
      "               [ 641,  642,  642, ..., -385, -387, -389],\n",
      "               [ 358,  358,  356, ...,  -36,  -37,  -40],\n",
      "               ...,\n",
      "               [ 379,  380,  379, ...,  142,  141,  140],\n",
      "               [1425, 1423, 1422, ..., -809, -809, -810],\n",
      "               [ 589,  590,  591, ..., -489, -490, -493]], dtype=int16), array([[600]], dtype=uint16), array([[5000]], dtype=uint16), array([[array(['LD_1'], dtype='<U4'), array(['LD_3'], dtype='<U4'),\n",
      "                array(['LD_4'], dtype='<U4'), array(['LD_5'], dtype='<U4'),\n",
      "                array(['LD_6'], dtype='<U4'), array(['LD_7'], dtype='<U4'),\n",
      "                array(['LD_8'], dtype='<U4'), array(['RD_1'], dtype='<U4'),\n",
      "                array(['RD_2'], dtype='<U4'), array(['RD_3'], dtype='<U4'),\n",
      "                array(['RD_4'], dtype='<U4'), array(['RD_5'], dtype='<U4'),\n",
      "                array(['RD_6'], dtype='<U4'), array(['RD_7'], dtype='<U4'),\n",
      "                array(['RD_8'], dtype='<U4')]], dtype=object), array([[1]], dtype=uint8))                                                                                                                ]],\n",
      "      dtype=[('data', 'O'), ('data_length_sec', 'O'), ('sampling_frequency', 'O'), ('channels', 'O'), ('sequence', 'O')])}\n"
     ]
    }
   ],
   "source": [
    "import scipy.io\n",
    "\n",
    "# Load the .mat file\n",
    "mat_data = scipy.io.loadmat('Patient_1_interictal_segment_0001.mat')\n",
    "\n",
    "# Check the contents\n",
    "print(mat_data)\n"
   ]
  },
  {
   "cell_type": "code",
   "execution_count": 3,
   "id": "cb85867c-10fc-42eb-af9e-073c5dd5c636",
   "metadata": {},
   "outputs": [],
   "source": [
    "\n",
    "interictal_tst = 'Patient_1/Patient_1_interictal_segment_0001.mat'\n",
    "preictal_tst = 'Patient_1/Patient_1_preictal_segment_0001.mat'\n",
    "interictal_data = scipy.io.loadmat(interictal_tst)\n",
    "preictal_data = scipy.io.loadmat(preictal_tst)\n"
   ]
  },
  {
   "cell_type": "code",
   "execution_count": 9,
   "id": "c2605d54-4376-4dad-8251-30af69b5b475",
   "metadata": {},
   "outputs": [],
   "source": [
    "interictal_array = interictal_data['interictal_segment_1'][0][0][0]\n"
   ]
  },
  {
   "cell_type": "code",
   "execution_count": 4,
   "id": "ead35fda-33e8-4fa4-a8c8-e6aa4eb72174",
   "metadata": {},
   "outputs": [
    {
     "data": {
      "text/plain": [
       "{'__header__': b'MATLAB 5.0 MAT-file, Platform: MACI64, Created on: Thu Aug 21 01:00:00 2014',\n",
       " '__version__': '1.0',\n",
       " '__globals__': [],\n",
       " 'interictal_segment_1': array([[(array([[ 122,  122,  122, ...,   34,   33,   31],\n",
       "                [ 641,  642,  642, ..., -385, -387, -389],\n",
       "                [ 358,  358,  356, ...,  -36,  -37,  -40],\n",
       "                ...,\n",
       "                [ 379,  380,  379, ...,  142,  141,  140],\n",
       "                [1425, 1423, 1422, ..., -809, -809, -810],\n",
       "                [ 589,  590,  591, ..., -489, -490, -493]], dtype=int16), array([[600]], dtype=uint16), array([[5000]], dtype=uint16), array([[array(['LD_1'], dtype='<U4'), array(['LD_3'], dtype='<U4'),\n",
       "                 array(['LD_4'], dtype='<U4'), array(['LD_5'], dtype='<U4'),\n",
       "                 array(['LD_6'], dtype='<U4'), array(['LD_7'], dtype='<U4'),\n",
       "                 array(['LD_8'], dtype='<U4'), array(['RD_1'], dtype='<U4'),\n",
       "                 array(['RD_2'], dtype='<U4'), array(['RD_3'], dtype='<U4'),\n",
       "                 array(['RD_4'], dtype='<U4'), array(['RD_5'], dtype='<U4'),\n",
       "                 array(['RD_6'], dtype='<U4'), array(['RD_7'], dtype='<U4'),\n",
       "                 array(['RD_8'], dtype='<U4')]], dtype=object), array([[1]], dtype=uint8))                                                                                                                ]],\n",
       "       dtype=[('data', 'O'), ('data_length_sec', 'O'), ('sampling_frequency', 'O'), ('channels', 'O'), ('sequence', 'O')])}"
      ]
     },
     "execution_count": 4,
     "metadata": {},
     "output_type": "execute_result"
    }
   ],
   "source": [
    "interictal_data"
   ]
  },
  {
   "cell_type": "code",
   "execution_count": 10,
   "id": "82ec8c78-fee1-4fbb-b0c4-c08a7d8dfeb2",
   "metadata": {},
   "outputs": [
    {
     "name": "stdout",
     "output_type": "stream",
     "text": [
      "Interictal\n"
     ]
    },
    {
     "data": {
      "image/png": "[encoded data removed]",
      "text/plain": [
       "<Figure size 640x480 with 1 Axes>"
      ]
     },
     "metadata": {},
     "output_type": "display_data"
    },
    {
     "name": "stdout",
     "output_type": "stream",
     "text": [
      "Preictal\n"
     ]
    },
    {
     "data": {
      "image/png": "[encoded data removed]",
      "text/plain": [
       "<Figure size 640x480 with 1 Axes>"
      ]
     },
     "metadata": {},
     "output_type": "display_data"
    },
    {
     "name": "stdout",
     "output_type": "stream",
     "text": [
      "Interictal\n"
     ]
    },
    {
     "data": {
      "image/png": "[encoded data removed]",
      "text/plain": [
       "<Figure size 640x480 with 1 Axes>"
      ]
     },
     "metadata": {},
     "output_type": "display_data"
    },
    {
     "name": "stdout",
     "output_type": "stream",
     "text": [
      "Preictal\n"
     ]
    },
    {
     "data": {
      "image/png": "[encoded data removed]",
      "text/plain": [
       "<Figure size 640x480 with 1 Axes>"
      ]
     },
     "metadata": {},
     "output_type": "display_data"
    }
   ],
   "source": [
    "l = list(range(10000))\n",
    "for i in l[::5000]:\n",
    "    print('Interictal')\n",
    "    i_secs = interictal_array[0][i:i+5000]\n",
    "    i_f, i_t, i_Sxx = spectrogram(i_secs, fs=5000, return_onesided=False)\n",
    "    i_SS = np.log1p(i_Sxx)\n",
    "    plt.imshow(i_SS[:] / np.max(i_SS), cmap='Greens')\n",
    "    plt.show()\n",
    "    print('Preictal')\n",
    "    p_secs = preictal_array[0][i:i+5000]\n",
    "    p_f, p_t, p_Sxx = spectrogram(p_secs, fs=5000, return_onesided=False)\n",
    "    p_SS = np.log1p(p_Sxx)\n",
    "    plt.imshow(p_SS[:] / np.max(p_SS), cmap='Greens')\n",
    "    plt.show()"
   ]
  },
  {
   "cell_type": "code",
   "execution_count": null,
   "id": "66ab6f9d-6633-494f-a7a0-64d77597b664",
   "metadata": {},
   "outputs": [],
   "source": []
  }
 ],
 "metadata": {
  "kernelspec": {
   "display_name": "Python 3 (ipykernel)",
   "language": "python",
   "name": "python3"
  },
  "language_info": {
   "codemirror_mode": {
    "name": "ipython",
    "version": 3
   },
   "file_extension": ".py",
   "mimetype": "text/x-python",
   "name": "python",
   "nbconvert_exporter": "python",
   "pygments_lexer": "ipython3",
   "version": "3.12.4"
  }
 },
 "nbformat": 4,
 "nbformat_minor": 5
}
