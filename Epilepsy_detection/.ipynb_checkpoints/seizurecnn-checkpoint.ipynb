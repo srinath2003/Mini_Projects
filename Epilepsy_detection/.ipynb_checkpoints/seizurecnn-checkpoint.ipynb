{
 "cells": [
  {
   "cell_type": "code",
   "execution_count": 27,
   "metadata": {
    "_cell_guid": "b1076dfc-b9ad-4769-8c92-a6c4dae69d19",
    "_uuid": "8f2839f25d086af736a60e9eeb907d3b93b6e0e5",
    "papermill": {
     "duration": 3.281765,
     "end_time": "2020-08-22T11:27:18.945391",
     "exception": false,
     "start_time": "2020-08-22T11:27:15.663626",
     "status": "completed"
    },
    "tags": []
   },
   "outputs": [
    {
     "name": "stdout",
     "output_type": "stream",
     "text": [
      "Patient_1/Patient_1_test_segment_0063.mat\n",
      "Patient_1/Patient_1_test_segment_0055.mat\n",
      "Patient_1/Patient_1_test_segment_0058.mat\n",
      "Patient_1/Patient_1_test_segment_0185.mat\n",
      "Patient_1/Patient_1_interictal_segment_0036.mat\n",
      "Patient_1/Patient_1_preictal_segment_0011.mat\n",
      "Patient_1/Patient_1_test_segment_0068.mat\n",
      "Patient_1/Patient_1_test_segment_0085.mat\n",
      "Patient_1/Patient_1_test_segment_0194.mat\n",
      "Patient_1/Patient_1_test_segment_0007.mat\n",
      "Patient_1/Patient_1_test_segment_0176.mat\n",
      "Patient_1/Patient_1_test_segment_0175.mat\n",
      "Patient_1/Patient_1_interictal_segment_0005.mat\n",
      "Patient_1/Patient_1_test_segment_0079.mat\n",
      "Patient_1/Patient_1_preictal_segment_0004.mat\n",
      "Patient_1/Patient_1_test_segment_0130.mat\n",
      "Patient_1/Patient_1_test_segment_0132.mat\n",
      "Patient_1/Patient_1_test_segment_0044.mat\n",
      "Patient_1/Patient_1_test_segment_0008.mat\n",
      "Patient_1/Patient_1_interictal_segment_0018.mat\n",
      "Patient_1/Patient_1_interictal_segment_0026.mat\n",
      "Patient_1/Patient_1_test_segment_0192.mat\n",
      "Patient_1/Patient_1_test_segment_0002.mat\n",
      "Patient_1/Patient_1_preictal_segment_0007.mat\n",
      "Patient_1/Patient_1_preictal_segment_0010.mat\n",
      "Patient_1/Patient_1_interictal_segment_0006.mat\n",
      "Patient_1/Patient_1_test_segment_0112.mat\n",
      "Patient_1/Patient_1_test_segment_0142.mat\n",
      "Patient_1/Patient_1_preictal_segment_0002.mat\n",
      "Patient_1/Patient_1_interictal_segment_0035.mat\n",
      "Patient_1/Patient_1_interictal_segment_0015.mat\n",
      "Patient_1/Patient_1_test_segment_0077.mat\n",
      "Patient_1/Patient_1_test_segment_0153.mat\n",
      "Patient_1/Patient_1_test_segment_0147.mat\n",
      "Patient_1/Patient_1_test_segment_0170.mat\n",
      "Patient_1/Patient_1_test_segment_0001.mat\n",
      "Patient_1/Patient_1_interictal_segment_0011.mat\n",
      "Patient_1/Patient_1_preictal_segment_0006.mat\n",
      "Patient_1/Patient_1_test_segment_0096.mat\n",
      "Patient_1/Patient_1_interictal_segment_0028.mat\n",
      "Patient_1/Patient_1_test_segment_0090.mat\n",
      "Patient_1/Patient_1_test_segment_0027.mat\n",
      "Patient_1/Patient_1_test_segment_0160.mat\n",
      "Patient_1/Patient_1_test_segment_0127.mat\n",
      "Patient_1/Patient_1_test_segment_0154.mat\n",
      "Patient_1/Patient_1_test_segment_0082.mat\n",
      "Patient_1/Patient_1_interictal_segment_0048.mat\n",
      "Patient_1/Patient_1_interictal_segment_0003.mat\n",
      "Patient_1/Patient_1_test_segment_0125.mat\n",
      "Patient_1/Patient_1_preictal_segment_0001.mat\n",
      "Patient_1/Patient_1_interictal_segment_0029.mat\n",
      "Patient_1/Patient_1_test_segment_0131.mat\n",
      "Patient_1/Patient_1_test_segment_0092.mat\n",
      "Patient_1/Patient_1_test_segment_0100.mat\n",
      "Patient_1/Patient_1_test_segment_0182.mat\n",
      "Patient_1/Patient_1_preictal_segment_0013.mat\n",
      "Patient_1/Patient_1_test_segment_0133.mat\n",
      "Patient_1/Patient_1_test_segment_0140.mat\n",
      "Patient_1/Patient_1_test_segment_0015.mat\n",
      "Patient_1/Patient_1_test_segment_0166.mat\n",
      "Patient_1/Patient_1_test_segment_0146.mat\n",
      "Patient_1/Patient_1_preictal_segment_0018.mat\n",
      "Patient_1/Patient_1_test_segment_0066.mat\n",
      "Patient_1/Patient_1_test_segment_0074.mat\n",
      "Patient_1/Patient_1_test_segment_0046.mat\n",
      "Patient_1/Patient_1_test_segment_0040.mat\n",
      "Patient_1/Patient_1_test_segment_0018.mat\n",
      "Patient_1/Patient_1_test_segment_0102.mat\n",
      "Patient_1/Patient_1_test_segment_0011.mat\n",
      "Patient_1/Patient_1_interictal_segment_0030.mat\n",
      "Patient_1/Patient_1_test_segment_0164.mat\n",
      "Patient_1/Patient_1_test_segment_0195.mat\n",
      "Patient_1/Patient_1_test_segment_0118.mat\n",
      "Patient_1/Patient_1_test_segment_0113.mat\n",
      "Patient_1/Patient_1_test_segment_0159.mat\n",
      "Patient_1/Patient_1_test_segment_0053.mat\n",
      "Patient_1/Patient_1_test_segment_0051.mat\n",
      "Patient_1/Patient_1_test_segment_0083.mat\n",
      "Patient_1/Patient_1_test_segment_0052.mat\n",
      "Patient_1/Patient_1_interictal_segment_0025.mat\n",
      "Patient_1/Patient_1_test_segment_0089.mat\n",
      "Patient_1/Patient_1_test_segment_0097.mat\n",
      "Patient_1/Patient_1_interictal_segment_0008.mat\n",
      "Patient_1/Patient_1_interictal_segment_0024.mat\n",
      "Patient_1/Patient_1_test_segment_0024.mat\n",
      "Patient_1/Patient_1_test_segment_0059.mat\n",
      "Patient_1/Patient_1_test_segment_0045.mat\n",
      "Patient_1/Patient_1_test_segment_0036.mat\n",
      "Patient_1/Patient_1_test_segment_0035.mat\n",
      "Patient_1/Patient_1_test_segment_0043.mat\n",
      "Patient_1/Patient_1_test_segment_0030.mat\n",
      "Patient_1/Patient_1_test_segment_0106.mat\n",
      "Patient_1/Patient_1_test_segment_0017.mat\n",
      "Patient_1/Patient_1_test_segment_0120.mat\n",
      "Patient_1/Patient_1_test_segment_0064.mat\n",
      "Patient_1/Patient_1_interictal_segment_0044.mat\n",
      "Patient_1/Patient_1_test_segment_0181.mat\n",
      "Patient_1/Patient_1_interictal_segment_0049.mat\n",
      "Patient_1/Patient_1_interictal_segment_0007.mat\n",
      "Patient_1/Patient_1_test_segment_0191.mat\n",
      "Patient_1/Patient_1_test_segment_0028.mat\n",
      "Patient_1/Patient_1_interictal_segment_0031.mat\n",
      "Patient_1/Patient_1_test_segment_0187.mat\n",
      "Patient_1/Patient_1_test_segment_0129.mat\n",
      "Patient_1/Patient_1_test_segment_0172.mat\n",
      "Patient_1/Patient_1_interictal_segment_0050.mat\n",
      "Patient_1/Patient_1_test_segment_0004.mat\n",
      "Patient_1/Patient_1_interictal_segment_0022.mat\n",
      "Patient_1/Patient_1_test_segment_0020.mat\n",
      "Patient_1/Patient_1_test_segment_0087.mat\n",
      "Patient_1/Patient_1_test_segment_0041.mat\n",
      "Patient_1/Patient_1_test_segment_0025.mat\n",
      "Patient_1/Patient_1_test_segment_0128.mat\n",
      "Patient_1/Patient_1_test_segment_0161.mat\n",
      "Patient_1/Patient_1_interictal_segment_0013.mat\n",
      "Patient_1/Patient_1_test_segment_0076.mat\n",
      "Patient_1/Patient_1_test_segment_0107.mat\n",
      "Patient_1/Patient_1_test_segment_0084.mat\n",
      "Patient_1/Patient_1_preictal_segment_0008.mat\n",
      "Patient_1/Patient_1_test_segment_0115.mat\n",
      "Patient_1/Patient_1_test_segment_0050.mat\n",
      "Patient_1/Patient_1_test_segment_0144.mat\n",
      "Patient_1/Patient_1_test_segment_0184.mat\n",
      "Patient_1/Patient_1_interictal_segment_0046.mat\n",
      "Patient_1/Patient_1_test_segment_0155.mat\n",
      "Patient_1/Patient_1_test_segment_0183.mat\n",
      "Patient_1/Patient_1_test_segment_0121.mat\n",
      "Patient_1/Patient_1_test_segment_0165.mat\n",
      "Patient_1/Patient_1_test_segment_0086.mat\n",
      "Patient_1/Patient_1_test_segment_0022.mat\n",
      "Patient_1/Patient_1_test_segment_0151.mat\n",
      "Patient_1/Patient_1_test_segment_0009.mat\n",
      "Patient_1/Patient_1_test_segment_0169.mat\n",
      "Patient_1/Patient_1_test_segment_0014.mat\n",
      "Patient_1/Patient_1_test_segment_0032.mat\n",
      "Patient_1/Patient_1_interictal_segment_0037.mat\n",
      "Patient_1/Patient_1_test_segment_0042.mat\n",
      "Patient_1/Patient_1_test_segment_0038.mat\n",
      "Patient_1/Patient_1_test_segment_0152.mat\n",
      "Patient_1/Patient_1_interictal_segment_0041.mat\n",
      "Patient_1/Patient_1_test_segment_0193.mat\n",
      "Patient_1/Patient_1_test_segment_0177.mat\n",
      "Patient_1/Patient_1_interictal_segment_0020.mat\n",
      "Patient_1/Patient_1_test_segment_0186.mat\n",
      "Patient_1/Patient_1_test_segment_0138.mat\n",
      "Patient_1/Patient_1_test_segment_0103.mat\n",
      "Patient_1/Patient_1_test_segment_0034.mat\n",
      "Patient_1/Patient_1_test_segment_0150.mat\n",
      "Patient_1/Patient_1_test_segment_0110.mat\n",
      "Patient_1/Patient_1_test_segment_0056.mat\n",
      "Patient_1/Patient_1_test_segment_0114.mat\n",
      "Patient_1/Patient_1_test_segment_0105.mat\n",
      "Patient_1/Patient_1_test_segment_0049.mat\n",
      "Patient_1/Patient_1_test_segment_0026.mat\n",
      "Patient_1/Patient_1_test_segment_0108.mat\n",
      "Patient_1/Patient_1_preictal_segment_0003.mat\n",
      "Patient_1/Patient_1_interictal_segment_0023.mat\n",
      "Patient_1/Patient_1_test_segment_0179.mat\n",
      "Patient_1/Patient_1_test_segment_0075.mat\n",
      "Patient_1/Patient_1_interictal_segment_0040.mat\n",
      "Patient_1/Patient_1_test_segment_0012.mat\n",
      "Patient_1/Patient_1_test_segment_0117.mat\n",
      "Patient_1/Patient_1_test_segment_0088.mat\n",
      "Patient_1/Patient_1_test_segment_0003.mat\n",
      "Patient_1/Patient_1_test_segment_0072.mat\n",
      "Patient_1/Patient_1_test_segment_0095.mat\n",
      "Patient_1/Patient_1_test_segment_0099.mat\n",
      "Patient_1/Patient_1_test_segment_0023.mat\n",
      "Patient_1/Patient_1_interictal_segment_0012.mat\n",
      "Patient_1/Patient_1_test_segment_0104.mat\n",
      "Patient_1/Patient_1_test_segment_0013.mat\n",
      "Patient_1/Patient_1_test_segment_0091.mat\n",
      "Patient_1/Patient_1_interictal_segment_0002.mat\n",
      "Patient_1/Patient_1_test_segment_0039.mat\n",
      "Patient_1/Patient_1_test_segment_0136.mat\n",
      "Patient_1/Patient_1_test_segment_0047.mat\n",
      "Patient_1/Patient_1_test_segment_0093.mat\n",
      "Patient_1/Patient_1_test_segment_0069.mat\n",
      "Patient_1/Patient_1_interictal_segment_0004.mat\n",
      "Patient_1/Patient_1_interictal_segment_0034.mat\n",
      "Patient_1/Patient_1_test_segment_0048.mat\n",
      "Patient_1/Patient_1_test_segment_0123.mat\n",
      "Patient_1/Patient_1_test_segment_0124.mat\n",
      "Patient_1/Patient_1_test_segment_0033.mat\n",
      "Patient_1/Patient_1_test_segment_0158.mat\n",
      "Patient_1/Patient_1_test_segment_0067.mat\n",
      "Patient_1/Patient_1_preictal_segment_0017.mat\n",
      "Patient_1/Patient_1_test_segment_0101.mat\n",
      "Patient_1/Patient_1_preictal_segment_0005.mat\n",
      "Patient_1/Patient_1_test_segment_0149.mat\n",
      "Patient_1/Patient_1_test_segment_0061.mat\n",
      "Patient_1/Patient_1_interictal_segment_0001.mat\n",
      "Patient_1/Patient_1_test_segment_0134.mat\n",
      "Patient_1/Patient_1_test_segment_0005.mat\n",
      "Patient_1/Patient_1_test_segment_0162.mat\n",
      "Patient_1/Patient_1_test_segment_0139.mat\n",
      "Patient_1/Patient_1_interictal_segment_0042.mat\n",
      "Patient_1/Patient_1_test_segment_0016.mat\n",
      "Patient_1/Patient_1_test_segment_0031.mat\n",
      "Patient_1/Patient_1_preictal_segment_0012.mat\n",
      "Patient_1/Patient_1_test_segment_0188.mat\n",
      "Patient_1/Patient_1_test_segment_0119.mat\n",
      "Patient_1/Patient_1_test_segment_0171.mat\n",
      "Patient_1/Patient_1_test_segment_0062.mat\n",
      "Patient_1/Patient_1_interictal_segment_0032.mat\n",
      "Patient_1/Patient_1_interictal_segment_0019.mat\n",
      "Patient_1/Patient_1_interictal_segment_0043.mat\n",
      "Patient_1/Patient_1_test_segment_0060.mat\n",
      "Patient_1/Patient_1_test_segment_0145.mat\n",
      "Patient_1/Patient_1_test_segment_0029.mat\n",
      "Patient_1/Patient_1_interictal_segment_0021.mat\n",
      "Patient_1/Patient_1_test_segment_0054.mat\n",
      "Patient_1/Patient_1_test_segment_0098.mat\n",
      "Patient_1/Patient_1_interictal_segment_0010.mat\n",
      "Patient_1/Patient_1_test_segment_0019.mat\n",
      "Patient_1/Patient_1_test_segment_0168.mat\n",
      "Patient_1/Patient_1_test_segment_0071.mat\n",
      "Patient_1/Patient_1_interictal_segment_0014.mat\n",
      "Patient_1/Patient_1_preictal_segment_0009.mat\n",
      "Patient_1/Patient_1_test_segment_0180.mat\n",
      "Patient_1/Patient_1_test_segment_0190.mat\n",
      "Patient_1/Patient_1_test_segment_0174.mat\n",
      "Patient_1/Patient_1_test_segment_0148.mat\n",
      "Patient_1/Patient_1_preictal_segment_0016.mat\n",
      "Patient_1/Patient_1_test_segment_0080.mat\n",
      "Patient_1/Patient_1_test_segment_0021.mat\n",
      "Patient_1/Patient_1_test_segment_0111.mat\n",
      "Patient_1/Patient_1_test_segment_0122.mat\n",
      "Patient_1/Patient_1_test_segment_0094.mat\n",
      "Patient_1/Patient_1_interictal_segment_0027.mat\n",
      "Patient_1/Patient_1_test_segment_0141.mat\n",
      "Patient_1/Patient_1_test_segment_0189.mat\n",
      "Patient_1/Patient_1_test_segment_0156.mat\n",
      "Patient_1/Patient_1_interictal_segment_0045.mat\n",
      "Patient_1/Patient_1_test_segment_0109.mat\n",
      "Patient_1/Patient_1_test_segment_0010.mat\n",
      "Patient_1/Patient_1_interictal_segment_0047.mat\n",
      "Patient_1/Patient_1_test_segment_0167.mat\n",
      "Patient_1/Patient_1_test_segment_0143.mat\n",
      "Patient_1/Patient_1_test_segment_0126.mat\n",
      "Patient_1/Patient_1_test_segment_0178.mat\n",
      "Patient_1/Patient_1_test_segment_0057.mat\n",
      "Patient_1/Patient_1_preictal_segment_0015.mat\n",
      "Patient_1/Patient_1_preictal_segment_0014.mat\n",
      "Patient_1/Patient_1_test_segment_0081.mat\n",
      "Patient_1/Patient_1_test_segment_0070.mat\n",
      "Patient_1/Patient_1_test_segment_0116.mat\n",
      "Patient_1/Patient_1_test_segment_0157.mat\n",
      "Patient_1/Patient_1_test_segment_0173.mat\n",
      "Patient_1/Patient_1_interictal_segment_0016.mat\n",
      "Patient_1/Patient_1_test_segment_0135.mat\n",
      "Patient_1/Patient_1_test_segment_0065.mat\n",
      "Patient_1/Patient_1_test_segment_0137.mat\n",
      "Patient_1/Patient_1_test_segment_0006.mat\n",
      "Patient_1/Patient_1_test_segment_0073.mat\n",
      "Patient_1/Patient_1_interictal_segment_0038.mat\n",
      "Patient_1/Patient_1_test_segment_0037.mat\n",
      "Patient_1/Patient_1_interictal_segment_0009.mat\n",
      "Patient_1/Patient_1_interictal_segment_0017.mat\n",
      "Patient_1/Patient_1_interictal_segment_0033.mat\n",
      "Patient_1/Patient_1_test_segment_0078.mat\n",
      "Patient_1/Patient_1_interictal_segment_0039.mat\n",
      "Patient_1/Patient_1_test_segment_0163.mat\n"
     ]
    }
   ],
   "source": [
    "# This Python 3 environment comes with many helpful analytics libraries installed\n",
    "# It is defined by the kaggle/python Docker image: https://github.com/kaggle/docker-python\n",
    "# For example, here's several helpful packages to load\n",
    "\n",
    "import numpy as np # linear algebra\n",
    "import pandas as pd # data processing, CSV file I/O (e.g. pd.read_csv)\n",
    "\n",
    "# Input data files are available in the read-only \"../input/\" directory\n",
    "# For example, running this (by clicking run or pressing Shift+Enter) will list all files under the input directory\n",
    "\n",
    "import os\n",
    "for dirname, _, filenames in os.walk('Patient_1'):\n",
    "    for filename in filenames:\n",
    "        print(os.path.join(dirname, filename))\n",
    "\n",
    "# You can write up to 5GB to the current directory (/kaggle/working/) that gets preserved as output when you create a version using \"Save & Run All\" \n",
    "# You can also write temporary files to /kaggle/temp/, but they won't be saved outside of the current session"
   ]
  },
  {
   "cell_type": "code",
   "execution_count": 28,
   "metadata": {
    "papermill": {
     "duration": 7.231411,
     "end_time": "2020-08-22T11:27:26.231920",
     "exception": false,
     "start_time": "2020-08-22T11:27:19.000509",
     "status": "completed"
    },
    "tags": []
   },
   "outputs": [],
   "source": [
    "from __future__ import print_function\n",
    "import tensorflow as tf\n",
    "\n",
    "from tensorflow.keras.models import Sequential\n",
    "from tensorflow.keras.layers import Dense, Dropout, Flatten\n",
    "from tensorflow.keras.layers import Conv2D, MaxPooling2D\n",
    "#from keras import backend as K\n",
    "\n",
    "import random\n",
    "import numpy as np\n",
    "import pandas as pd\n",
    "\n",
    "import scipy.io\n",
    "from scipy.signal import spectrogram\n",
    "import matplotlib.pyplot as plt\n",
    "from tensorflow.keras.callbacks import EarlyStopping"
   ]
  },
  {
   "cell_type": "code",
   "execution_count": 29,
   "metadata": {
    "papermill": {
     "duration": 0.602284,
     "end_time": "2020-08-22T11:27:26.874758",
     "exception": false,
     "start_time": "2020-08-22T11:27:26.272474",
     "status": "completed"
    },
    "tags": []
   },
   "outputs": [],
   "source": [
    "interictal_tst = 'Patient_1/Patient_1_interictal_segment_0001.mat'\n",
    "preictal_tst = 'Patient_1/Patient_1_preictal_segment_0001.mat'\n",
    "interictal_data = scipy.io.loadmat(interictal_tst)\n",
    "preictal_data = scipy.io.loadmat(preictal_tst)\n"
   ]
  },
  {
   "cell_type": "code",
   "execution_count": 30,
   "metadata": {
    "papermill": {
     "duration": 0.043163,
     "end_time": "2020-08-22T11:27:26.952995",
     "exception": false,
     "start_time": "2020-08-22T11:27:26.909832",
     "status": "completed"
    },
    "tags": []
   },
   "outputs": [],
   "source": [
    "interictal_array = interictal_data['interictal_segment_1'][0][0][0]\n",
    "preictal_array = preictal_data['preictal_segment_1'][0][0][0]"
   ]
  },
  {
   "cell_type": "code",
   "execution_count": 31,
   "metadata": {
    "papermill": {
     "duration": 0.79763,
     "end_time": "2020-08-22T11:27:27.790288",
     "exception": false,
     "start_time": "2020-08-22T11:27:26.992658",
     "status": "completed"
    },
    "tags": []
   },
   "outputs": [
    {
     "name": "stdout",
     "output_type": "stream",
     "text": [
      "Interictal\n"
     ]
    },
    {
     "data": {
      "image/png": "[encoded data removed]",
      "text/plain": [
       "<Figure size 640x480 with 1 Axes>"
      ]
     },
     "metadata": {},
     "output_type": "display_data"
    },
    {
     "name": "stdout",
     "output_type": "stream",
     "text": [
      "Preictal\n"
     ]
    },
    {
     "data": {
      "image/png": "[encoded data removed]",
      "text/plain": [
       "<Figure size 640x480 with 1 Axes>"
      ]
     },
     "metadata": {},
     "output_type": "display_data"
    },
    {
     "name": "stdout",
     "output_type": "stream",
     "text": [
      "Interictal\n"
     ]
    },
    {
     "data": {
      "image/png": "[encoded data removed]",
      "text/plain": [
       "<Figure size 640x480 with 1 Axes>"
      ]
     },
     "metadata": {},
     "output_type": "display_data"
    },
    {
     "name": "stdout",
     "output_type": "stream",
     "text": [
      "Preictal\n"
     ]
    },
    {
     "data": {
      "image/png": "[encoded data removed]",
      "text/plain": [
       "<Figure size 640x480 with 1 Axes>"
      ]
     },
     "metadata": {},
     "output_type": "display_data"
    }
   ],
   "source": [
    "l = list(range(10000))\n",
    "for i in l[::5000]:\n",
    "    print('Interictal')\n",
    "    i_secs = interictal_array[0][i:i+5000]\n",
    "    i_f, i_t, i_Sxx = spectrogram(i_secs, fs=5000, return_onesided=False)\n",
    "    i_SS = np.log1p(i_Sxx)\n",
    "    plt.imshow(i_SS[:] / np.max(i_SS), cmap='gray')\n",
    "    plt.show()\n",
    "    print('Preictal')\n",
    "    p_secs = preictal_array[0][i:i+5000]\n",
    "    p_f, p_t, p_Sxx = spectrogram(p_secs, fs=5000, return_onesided=False)\n",
    "    p_SS = np.log1p(p_Sxx)\n",
    "    plt.imshow(p_SS[:] / np.max(p_SS), cmap='gray')\n",
    "    plt.show()"
   ]
  },
  {
   "cell_type": "code",
   "execution_count": 32,
   "metadata": {
    "papermill": {
     "duration": 24.943407,
     "end_time": "2020-08-22T11:27:52.794557",
     "exception": false,
     "start_time": "2020-08-22T11:27:27.851150",
     "status": "completed"
    },
    "tags": []
   },
   "outputs": [],
   "source": [
    "all_X = []\n",
    "all_Y = []\n",
    "\n",
    "types = ['Patient_1_interictal_segment', 'Patient_1_preictal_segment']\n",
    "\n",
    "for i,typ in enumerate(types):\n",
    "    # Looking at 18 files for each event for a balanced dataset\n",
    "    for j in range(18):\n",
    "        fl = 'Patient_1/{}_{}.mat'.format(typ, str(j + 1).zfill(4))\n",
    "        data = scipy.io.loadmat(fl)\n",
    "        k = typ.replace('Patient_1_', '') + '_'\n",
    "        d_array = data[k + str(j + 1)][0][0][0]\n",
    "        lst = list(range(3000000))  # 10 minutes\n",
    "        for m in lst[::5000]:\n",
    "            # Create a spectrogram every 1 second\n",
    "            p_secs = d_array[0][m:m+5000]\n",
    "            p_f, p_t, p_Sxx = spectrogram(p_secs, fs=5000, return_onesided=False)\n",
    "            p_SS = np.log1p(p_Sxx)\n",
    "            arr = p_SS[:] / np.max(p_SS)\n",
    "            all_X.append(arr)\n",
    "            all_Y.append(i)"
   ]
  },
  {
   "cell_type": "code",
   "execution_count": 33,
   "metadata": {
    "papermill": {
     "duration": 0.162181,
     "end_time": "2020-08-22T11:27:53.003119",
     "exception": false,
     "start_time": "2020-08-22T11:27:52.840938",
     "status": "completed"
    },
    "tags": []
   },
   "outputs": [
    {
     "name": "stdout",
     "output_type": "stream",
     "text": [
      "21600\n"
     ]
    }
   ],
   "source": [
    "# Shuffling the data\n",
    "dataset = list(zip(all_X, all_Y))\n",
    "random.shuffle(dataset)\n",
    "all_X,all_Y = zip(*dataset)\n",
    "print(len(all_X))"
   ]
  },
  {
   "cell_type": "code",
   "execution_count": 34,
   "metadata": {
    "papermill": {
     "duration": 0.81604,
     "end_time": "2020-08-22T11:27:53.861356",
     "exception": false,
     "start_time": "2020-08-22T11:27:53.045316",
     "status": "completed"
    },
    "tags": []
   },
   "outputs": [],
   "source": [
    "# Splitting data into train/test, leaving only 600 samples for testing\n",
    "x_train = np.array(all_X[:21000])\n",
    "y_train = np.array(all_Y[:21000])\n",
    "x_test = np.array(all_X[21000:])\n",
    "y_test = np.array(all_Y[21000:])\n"
   ]
  },
  {
   "cell_type": "code",
   "execution_count": 35,
   "metadata": {
    "papermill": {
     "duration": 0.049502,
     "end_time": "2020-08-22T11:27:53.955251",
     "exception": false,
     "start_time": "2020-08-22T11:27:53.905749",
     "status": "completed"
    },
    "tags": []
   },
   "outputs": [],
   "source": [
    "batch_size = 128\n",
    "num_classes = 2\n",
    "epochs = 100\n",
    "img_rows, img_cols = 256, 22"
   ]
  },
  {
   "cell_type": "code",
   "execution_count": 36,
   "metadata": {
    "papermill": {
     "duration": 0.420475,
     "end_time": "2020-08-22T11:27:54.415433",
     "exception": false,
     "start_time": "2020-08-22T11:27:53.994958",
     "status": "completed"
    },
    "tags": []
   },
   "outputs": [],
   "source": [
    "x_train = x_train.reshape(x_train.shape[0], img_rows, img_cols, 1)\n",
    "x_test = x_test.reshape(x_test.shape[0], img_rows, img_cols, 1)\n",
    "input_shape = (img_rows, img_cols, 1)\n",
    "x_train = x_train.astype('float32')\n",
    "x_test = x_test.astype('float32')"
   ]
  },
  {
   "cell_type": "code",
   "execution_count": 37,
   "metadata": {
    "papermill": {
     "duration": 0.049941,
     "end_time": "2020-08-22T11:27:54.507158",
     "exception": false,
     "start_time": "2020-08-22T11:27:54.457217",
     "status": "completed"
    },
    "tags": []
   },
   "outputs": [],
   "source": [
    "y_train = tf.keras.utils.to_categorical(y_train, num_classes) \n",
    "y_test = tf.keras.utils.to_categorical(y_test, num_classes)"
   ]
  },
  {
   "cell_type": "code",
   "execution_count": 38,
   "metadata": {
    "papermill": {
     "duration": 0.322675,
     "end_time": "2020-08-22T11:27:54.871805",
     "exception": false,
     "start_time": "2020-08-22T11:27:54.549130",
     "status": "completed"
    },
    "tags": []
   },
   "outputs": [],
   "source": [
    "model = Sequential()\n",
    "\n",
    "model.add(Conv2D(32, kernel_size=(5, 5),\n",
    "                 activation='relu',\n",
    "                 input_shape=input_shape))\n",
    "model.add(Conv2D(32, (3, 3), activation='relu'))\n",
    "model.add(MaxPooling2D(pool_size=(2, 2)))\n",
    "model.add(Dropout(0.25))\n",
    "model.add(Flatten())\n",
    "model.add(Dense(32, activation='relu'))\n",
    "model.add(Dropout(0.5))\n",
    "model.add(Dense(num_classes, activation='sigmoid'))\n",
    "\n",
    "model.compile(loss=tf.keras.losses.binary_crossentropy,\n",
    "              optimizer=tf.keras.optimizers.RMSprop(),\n",
    "              metrics=['accuracy'])"
   ]
  },
  {
   "cell_type": "code",
   "execution_count": 39,
   "metadata": {
    "papermill": {
     "duration": 0.054461,
     "end_time": "2020-08-22T11:27:54.969706",
     "exception": false,
     "start_time": "2020-08-22T11:27:54.915245",
     "status": "completed"
    },
    "tags": []
   },
   "outputs": [
    {
     "data": {
      "text/html": [
       "<pre style=\"white-space:pre;overflow-x:auto;line-height:normal;font-family:Menlo,'DejaVu Sans Mono',consolas,'Courier New',monospace\"><span style=\"font-weight: bold\">Model: \"sequential_2\"</span>\n",
       "</pre>\n"
      ],
      "text/plain": [
       "\u001b[1mModel: \"sequential_2\"\u001b[0m\n"
      ]
     },
     "metadata": {},
     "output_type": "display_data"
    },
    {
     "data": {
      "text/html": [
       "<pre style=\"white-space:pre;overflow-x:auto;line-height:normal;font-family:Menlo,'DejaVu Sans Mono',consolas,'Courier New',monospace\">┏━━━━━━━━━━━━━━━━━━━━━━━━━━━━━━━━━┳━━━━━━━━━━━━━━━━━━━━━━━━┳━━━━━━━━━━━━━━━┓\n",
       "┃<span style=\"font-weight: bold\"> Layer (type)                    </span>┃<span style=\"font-weight: bold\"> Output Shape           </span>┃<span style=\"font-weight: bold\">       Param # </span>┃\n",
       "┡━━━━━━━━━━━━━━━━━━━━━━━━━━━━━━━━━╇━━━━━━━━━━━━━━━━━━━━━━━━╇━━━━━━━━━━━━━━━┩\n",
       "│ conv2d_4 (<span style=\"color: #0087ff; text-decoration-color: #0087ff\">Conv2D</span>)               │ (<span style=\"color: #00d7ff; text-decoration-color: #00d7ff\">None</span>, <span style=\"color: #00af00; text-decoration-color: #00af00\">252</span>, <span style=\"color: #00af00; text-decoration-color: #00af00\">18</span>, <span style=\"color: #00af00; text-decoration-color: #00af00\">32</span>)    │           <span style=\"color: #00af00; text-decoration-color: #00af00\">832</span> │\n",
       "├─────────────────────────────────┼────────────────────────┼───────────────┤\n",
       "│ conv2d_5 (<span style=\"color: #0087ff; text-decoration-color: #0087ff\">Conv2D</span>)               │ (<span style=\"color: #00d7ff; text-decoration-color: #00d7ff\">None</span>, <span style=\"color: #00af00; text-decoration-color: #00af00\">250</span>, <span style=\"color: #00af00; text-decoration-color: #00af00\">16</span>, <span style=\"color: #00af00; text-decoration-color: #00af00\">32</span>)    │         <span style=\"color: #00af00; text-decoration-color: #00af00\">9,248</span> │\n",
       "├─────────────────────────────────┼────────────────────────┼───────────────┤\n",
       "│ max_pooling2d_2 (<span style=\"color: #0087ff; text-decoration-color: #0087ff\">MaxPooling2D</span>)  │ (<span style=\"color: #00d7ff; text-decoration-color: #00d7ff\">None</span>, <span style=\"color: #00af00; text-decoration-color: #00af00\">125</span>, <span style=\"color: #00af00; text-decoration-color: #00af00\">8</span>, <span style=\"color: #00af00; text-decoration-color: #00af00\">32</span>)     │             <span style=\"color: #00af00; text-decoration-color: #00af00\">0</span> │\n",
       "├─────────────────────────────────┼────────────────────────┼───────────────┤\n",
       "│ dropout_4 (<span style=\"color: #0087ff; text-decoration-color: #0087ff\">Dropout</span>)             │ (<span style=\"color: #00d7ff; text-decoration-color: #00d7ff\">None</span>, <span style=\"color: #00af00; text-decoration-color: #00af00\">125</span>, <span style=\"color: #00af00; text-decoration-color: #00af00\">8</span>, <span style=\"color: #00af00; text-decoration-color: #00af00\">32</span>)     │             <span style=\"color: #00af00; text-decoration-color: #00af00\">0</span> │\n",
       "├─────────────────────────────────┼────────────────────────┼───────────────┤\n",
       "│ flatten_2 (<span style=\"color: #0087ff; text-decoration-color: #0087ff\">Flatten</span>)             │ (<span style=\"color: #00d7ff; text-decoration-color: #00d7ff\">None</span>, <span style=\"color: #00af00; text-decoration-color: #00af00\">32000</span>)          │             <span style=\"color: #00af00; text-decoration-color: #00af00\">0</span> │\n",
       "├─────────────────────────────────┼────────────────────────┼───────────────┤\n",
       "│ dense_4 (<span style=\"color: #0087ff; text-decoration-color: #0087ff\">Dense</span>)                 │ (<span style=\"color: #00d7ff; text-decoration-color: #00d7ff\">None</span>, <span style=\"color: #00af00; text-decoration-color: #00af00\">32</span>)             │     <span style=\"color: #00af00; text-decoration-color: #00af00\">1,024,032</span> │\n",
       "├─────────────────────────────────┼────────────────────────┼───────────────┤\n",
       "│ dropout_5 (<span style=\"color: #0087ff; text-decoration-color: #0087ff\">Dropout</span>)             │ (<span style=\"color: #00d7ff; text-decoration-color: #00d7ff\">None</span>, <span style=\"color: #00af00; text-decoration-color: #00af00\">32</span>)             │             <span style=\"color: #00af00; text-decoration-color: #00af00\">0</span> │\n",
       "├─────────────────────────────────┼────────────────────────┼───────────────┤\n",
       "│ dense_5 (<span style=\"color: #0087ff; text-decoration-color: #0087ff\">Dense</span>)                 │ (<span style=\"color: #00d7ff; text-decoration-color: #00d7ff\">None</span>, <span style=\"color: #00af00; text-decoration-color: #00af00\">2</span>)              │            <span style=\"color: #00af00; text-decoration-color: #00af00\">66</span> │\n",
       "└─────────────────────────────────┴────────────────────────┴───────────────┘\n",
       "</pre>\n"
      ],
      "text/plain": [
       "┏━━━━━━━━━━━━━━━━━━━━━━━━━━━━━━━━━┳━━━━━━━━━━━━━━━━━━━━━━━━┳━━━━━━━━━━━━━━━┓\n",
       "┃\u001b[1m \u001b[0m\u001b[1mLayer (type)                   \u001b[0m\u001b[1m \u001b[0m┃\u001b[1m \u001b[0m\u001b[1mOutput Shape          \u001b[0m\u001b[1m \u001b[0m┃\u001b[1m \u001b[0m\u001b[1m      Param #\u001b[0m\u001b[1m \u001b[0m┃\n",
       "┡━━━━━━━━━━━━━━━━━━━━━━━━━━━━━━━━━╇━━━━━━━━━━━━━━━━━━━━━━━━╇━━━━━━━━━━━━━━━┩\n",
       "│ conv2d_4 (\u001b[38;5;33mConv2D\u001b[0m)               │ (\u001b[38;5;45mNone\u001b[0m, \u001b[38;5;34m252\u001b[0m, \u001b[38;5;34m18\u001b[0m, \u001b[38;5;34m32\u001b[0m)    │           \u001b[38;5;34m832\u001b[0m │\n",
       "├─────────────────────────────────┼────────────────────────┼───────────────┤\n",
       "│ conv2d_5 (\u001b[38;5;33mConv2D\u001b[0m)               │ (\u001b[38;5;45mNone\u001b[0m, \u001b[38;5;34m250\u001b[0m, \u001b[38;5;34m16\u001b[0m, \u001b[38;5;34m32\u001b[0m)    │         \u001b[38;5;34m9,248\u001b[0m │\n",
       "├─────────────────────────────────┼────────────────────────┼───────────────┤\n",
       "│ max_pooling2d_2 (\u001b[38;5;33mMaxPooling2D\u001b[0m)  │ (\u001b[38;5;45mNone\u001b[0m, \u001b[38;5;34m125\u001b[0m, \u001b[38;5;34m8\u001b[0m, \u001b[38;5;34m32\u001b[0m)     │             \u001b[38;5;34m0\u001b[0m │\n",
       "├─────────────────────────────────┼────────────────────────┼───────────────┤\n",
       "│ dropout_4 (\u001b[38;5;33mDropout\u001b[0m)             │ (\u001b[38;5;45mNone\u001b[0m, \u001b[38;5;34m125\u001b[0m, \u001b[38;5;34m8\u001b[0m, \u001b[38;5;34m32\u001b[0m)     │             \u001b[38;5;34m0\u001b[0m │\n",
       "├─────────────────────────────────┼────────────────────────┼───────────────┤\n",
       "│ flatten_2 (\u001b[38;5;33mFlatten\u001b[0m)             │ (\u001b[38;5;45mNone\u001b[0m, \u001b[38;5;34m32000\u001b[0m)          │             \u001b[38;5;34m0\u001b[0m │\n",
       "├─────────────────────────────────┼────────────────────────┼───────────────┤\n",
       "│ dense_4 (\u001b[38;5;33mDense\u001b[0m)                 │ (\u001b[38;5;45mNone\u001b[0m, \u001b[38;5;34m32\u001b[0m)             │     \u001b[38;5;34m1,024,032\u001b[0m │\n",
       "├─────────────────────────────────┼────────────────────────┼───────────────┤\n",
       "│ dropout_5 (\u001b[38;5;33mDropout\u001b[0m)             │ (\u001b[38;5;45mNone\u001b[0m, \u001b[38;5;34m32\u001b[0m)             │             \u001b[38;5;34m0\u001b[0m │\n",
       "├─────────────────────────────────┼────────────────────────┼───────────────┤\n",
       "│ dense_5 (\u001b[38;5;33mDense\u001b[0m)                 │ (\u001b[38;5;45mNone\u001b[0m, \u001b[38;5;34m2\u001b[0m)              │            \u001b[38;5;34m66\u001b[0m │\n",
       "└─────────────────────────────────┴────────────────────────┴───────────────┘\n"
      ]
     },
     "metadata": {},
     "output_type": "display_data"
    },
    {
     "data": {
      "text/html": [
       "<pre style=\"white-space:pre;overflow-x:auto;line-height:normal;font-family:Menlo,'DejaVu Sans Mono',consolas,'Courier New',monospace\"><span style=\"font-weight: bold\"> Total params: </span><span style=\"color: #00af00; text-decoration-color: #00af00\">1,034,178</span> (3.95 MB)\n",
       "</pre>\n"
      ],
      "text/plain": [
       "\u001b[1m Total params: \u001b[0m\u001b[38;5;34m1,034,178\u001b[0m (3.95 MB)\n"
      ]
     },
     "metadata": {},
     "output_type": "display_data"
    },
    {
     "data": {
      "text/html": [
       "<pre style=\"white-space:pre;overflow-x:auto;line-height:normal;font-family:Menlo,'DejaVu Sans Mono',consolas,'Courier New',monospace\"><span style=\"font-weight: bold\"> Trainable params: </span><span style=\"color: #00af00; text-decoration-color: #00af00\">1,034,178</span> (3.95 MB)\n",
       "</pre>\n"
      ],
      "text/plain": [
       "\u001b[1m Trainable params: \u001b[0m\u001b[38;5;34m1,034,178\u001b[0m (3.95 MB)\n"
      ]
     },
     "metadata": {},
     "output_type": "display_data"
    },
    {
     "data": {
      "text/html": [
       "<pre style=\"white-space:pre;overflow-x:auto;line-height:normal;font-family:Menlo,'DejaVu Sans Mono',consolas,'Courier New',monospace\"><span style=\"font-weight: bold\"> Non-trainable params: </span><span style=\"color: #00af00; text-decoration-color: #00af00\">0</span> (0.00 B)\n",
       "</pre>\n"
      ],
      "text/plain": [
       "\u001b[1m Non-trainable params: \u001b[0m\u001b[38;5;34m0\u001b[0m (0.00 B)\n"
      ]
     },
     "metadata": {},
     "output_type": "display_data"
    }
   ],
   "source": [
    "model.summary()\n"
   ]
  },
  {
   "cell_type": "code",
   "execution_count": 40,
   "metadata": {},
   "outputs": [],
   "source": [
    "early_stop = EarlyStopping(\n",
    "    monitor='val_loss',      # Metric to monitor (e.g., validation loss)\n",
    "    patience=5,              # Number of epochs with no improvement after which training will be stopped\n",
    "    restore_best_weights=True # Restore the weights of the best epoch\n",
    ")\n"
   ]
  },
  {
   "cell_type": "code",
   "execution_count": 41,
   "metadata": {
    "papermill": {
     "duration": 3742.313417,
     "end_time": "2020-08-22T12:30:17.325453",
     "exception": false,
     "start_time": "2020-08-22T11:27:55.012036",
     "status": "completed"
    },
    "scrolled": true,
    "tags": []
   },
   "outputs": [
    {
     "name": "stdout",
     "output_type": "stream",
     "text": [
      "Epoch 1/100\n",
      "\u001b[1m165/165\u001b[0m \u001b[32m━━━━━━━━━━━━━━━━━━━━\u001b[0m\u001b[37m\u001b[0m \u001b[1m5s\u001b[0m 22ms/step - accuracy: 0.6467 - loss: 0.5160 - val_accuracy: 0.6650 - val_loss: 0.4517\n",
      "Epoch 2/100\n",
      "\u001b[1m165/165\u001b[0m \u001b[32m━━━━━━━━━━━━━━━━━━━━\u001b[0m\u001b[37m\u001b[0m \u001b[1m2s\u001b[0m 13ms/step - accuracy: 0.6743 - loss: 0.4707 - val_accuracy: 0.7100 - val_loss: 0.4481\n",
      "Epoch 3/100\n",
      "\u001b[1m165/165\u001b[0m \u001b[32m━━━━━━━━━━━━━━━━━━━━\u001b[0m\u001b[37m\u001b[0m \u001b[1m2s\u001b[0m 13ms/step - accuracy: 0.6736 - loss: 0.4705 - val_accuracy: 0.6667 - val_loss: 0.4598\n",
      "Epoch 4/100\n",
      "\u001b[1m165/165\u001b[0m \u001b[32m━━━━━━━━━━━━━━━━━━━━\u001b[0m\u001b[37m\u001b[0m \u001b[1m2s\u001b[0m 13ms/step - accuracy: 0.6889 - loss: 0.4690 - val_accuracy: 0.6767 - val_loss: 0.4468\n",
      "Epoch 5/100\n",
      "\u001b[1m165/165\u001b[0m \u001b[32m━━━━━━━━━━━━━━━━━━━━\u001b[0m\u001b[37m\u001b[0m \u001b[1m2s\u001b[0m 13ms/step - accuracy: 0.7056 - loss: 0.4628 - val_accuracy: 0.7683 - val_loss: 0.4310\n",
      "Epoch 6/100\n",
      "\u001b[1m165/165\u001b[0m \u001b[32m━━━━━━━━━━━━━━━━━━━━\u001b[0m\u001b[37m\u001b[0m \u001b[1m2s\u001b[0m 13ms/step - accuracy: 0.7351 - loss: 0.4449 - val_accuracy: 0.7050 - val_loss: 0.4464\n",
      "Epoch 7/100\n",
      "\u001b[1m165/165\u001b[0m \u001b[32m━━━━━━━━━━━━━━━━━━━━\u001b[0m\u001b[37m\u001b[0m \u001b[1m2s\u001b[0m 13ms/step - accuracy: 0.7668 - loss: 0.4244 - val_accuracy: 0.7817 - val_loss: 0.3869\n",
      "Epoch 8/100\n",
      "\u001b[1m165/165\u001b[0m \u001b[32m━━━━━━━━━━━━━━━━━━━━\u001b[0m\u001b[37m\u001b[0m \u001b[1m2s\u001b[0m 13ms/step - accuracy: 0.7860 - loss: 0.4021 - val_accuracy: 0.7833 - val_loss: 0.3705\n",
      "Epoch 9/100\n",
      "\u001b[1m165/165\u001b[0m \u001b[32m━━━━━━━━━━━━━━━━━━━━\u001b[0m\u001b[37m\u001b[0m \u001b[1m2s\u001b[0m 13ms/step - accuracy: 0.8300 - loss: 0.3514 - val_accuracy: 0.7050 - val_loss: 0.5687\n",
      "Epoch 10/100\n",
      "\u001b[1m165/165\u001b[0m \u001b[32m━━━━━━━━━━━━━━━━━━━━\u001b[0m\u001b[37m\u001b[0m \u001b[1m2s\u001b[0m 13ms/step - accuracy: 0.8658 - loss: 0.3054 - val_accuracy: 0.8767 - val_loss: 0.2494\n",
      "Epoch 11/100\n",
      "\u001b[1m165/165\u001b[0m \u001b[32m━━━━━━━━━━━━━━━━━━━━\u001b[0m\u001b[37m\u001b[0m \u001b[1m2s\u001b[0m 13ms/step - accuracy: 0.8903 - loss: 0.2555 - val_accuracy: 0.9233 - val_loss: 0.1945\n",
      "Epoch 12/100\n",
      "\u001b[1m165/165\u001b[0m \u001b[32m━━━━━━━━━━━━━━━━━━━━\u001b[0m\u001b[37m\u001b[0m \u001b[1m2s\u001b[0m 13ms/step - accuracy: 0.9057 - loss: 0.2272 - val_accuracy: 0.9417 - val_loss: 0.1599\n",
      "Epoch 13/100\n",
      "\u001b[1m165/165\u001b[0m \u001b[32m━━━━━━━━━━━━━━━━━━━━\u001b[0m\u001b[37m\u001b[0m \u001b[1m2s\u001b[0m 13ms/step - accuracy: 0.9139 - loss: 0.2058 - val_accuracy: 0.8533 - val_loss: 0.3072\n",
      "Epoch 14/100\n",
      "\u001b[1m165/165\u001b[0m \u001b[32m━━━━━━━━━━━━━━━━━━━━\u001b[0m\u001b[37m\u001b[0m \u001b[1m2s\u001b[0m 13ms/step - accuracy: 0.9129 - loss: 0.2151 - val_accuracy: 0.9500 - val_loss: 0.1341\n",
      "Epoch 15/100\n",
      "\u001b[1m165/165\u001b[0m \u001b[32m━━━━━━━━━━━━━━━━━━━━\u001b[0m\u001b[37m\u001b[0m \u001b[1m2s\u001b[0m 13ms/step - accuracy: 0.9245 - loss: 0.1851 - val_accuracy: 0.9167 - val_loss: 0.2047\n",
      "Epoch 16/100\n",
      "\u001b[1m165/165\u001b[0m \u001b[32m━━━━━━━━━━━━━━━━━━━━\u001b[0m\u001b[37m\u001b[0m \u001b[1m2s\u001b[0m 13ms/step - accuracy: 0.9309 - loss: 0.1796 - val_accuracy: 0.9267 - val_loss: 0.1864\n",
      "Epoch 17/100\n",
      "\u001b[1m165/165\u001b[0m \u001b[32m━━━━━━━━━━━━━━━━━━━━\u001b[0m\u001b[37m\u001b[0m \u001b[1m2s\u001b[0m 13ms/step - accuracy: 0.9335 - loss: 0.1662 - val_accuracy: 0.9483 - val_loss: 0.1272\n",
      "Epoch 18/100\n",
      "\u001b[1m165/165\u001b[0m \u001b[32m━━━━━━━━━━━━━━━━━━━━\u001b[0m\u001b[37m\u001b[0m \u001b[1m2s\u001b[0m 13ms/step - accuracy: 0.9336 - loss: 0.1630 - val_accuracy: 0.9400 - val_loss: 0.1534\n",
      "Epoch 19/100\n",
      "\u001b[1m165/165\u001b[0m \u001b[32m━━━━━━━━━━━━━━━━━━━━\u001b[0m\u001b[37m\u001b[0m \u001b[1m2s\u001b[0m 13ms/step - accuracy: 0.9361 - loss: 0.1583 - val_accuracy: 0.9350 - val_loss: 0.1451\n",
      "Epoch 20/100\n",
      "\u001b[1m165/165\u001b[0m \u001b[32m━━━━━━━━━━━━━━━━━━━━\u001b[0m\u001b[37m\u001b[0m \u001b[1m2s\u001b[0m 13ms/step - accuracy: 0.9385 - loss: 0.1559 - val_accuracy: 0.9533 - val_loss: 0.1074\n",
      "Epoch 21/100\n",
      "\u001b[1m165/165\u001b[0m \u001b[32m━━━━━━━━━━━━━━━━━━━━\u001b[0m\u001b[37m\u001b[0m \u001b[1m2s\u001b[0m 13ms/step - accuracy: 0.9352 - loss: 0.1565 - val_accuracy: 0.9350 - val_loss: 0.1512\n",
      "Epoch 22/100\n",
      "\u001b[1m165/165\u001b[0m \u001b[32m━━━━━━━━━━━━━━━━━━━━\u001b[0m\u001b[37m\u001b[0m \u001b[1m2s\u001b[0m 13ms/step - accuracy: 0.9368 - loss: 0.1566 - val_accuracy: 0.9233 - val_loss: 0.1738\n",
      "Epoch 23/100\n",
      "\u001b[1m165/165\u001b[0m \u001b[32m━━━━━━━━━━━━━━━━━━━━\u001b[0m\u001b[37m\u001b[0m \u001b[1m2s\u001b[0m 13ms/step - accuracy: 0.9426 - loss: 0.1509 - val_accuracy: 0.9367 - val_loss: 0.1497\n",
      "Epoch 24/100\n",
      "\u001b[1m165/165\u001b[0m \u001b[32m━━━━━━━━━━━━━━━━━━━━\u001b[0m\u001b[37m\u001b[0m \u001b[1m2s\u001b[0m 13ms/step - accuracy: 0.9354 - loss: 0.1552 - val_accuracy: 0.9500 - val_loss: 0.1064\n",
      "Epoch 25/100\n",
      "\u001b[1m165/165\u001b[0m \u001b[32m━━━━━━━━━━━━━━━━━━━━\u001b[0m\u001b[37m\u001b[0m \u001b[1m2s\u001b[0m 13ms/step - accuracy: 0.9428 - loss: 0.1476 - val_accuracy: 0.9517 - val_loss: 0.1086\n",
      "Epoch 26/100\n",
      "\u001b[1m165/165\u001b[0m \u001b[32m━━━━━━━━━━━━━━━━━━━━\u001b[0m\u001b[37m\u001b[0m \u001b[1m2s\u001b[0m 13ms/step - accuracy: 0.9406 - loss: 0.1467 - val_accuracy: 0.9233 - val_loss: 0.1702\n",
      "Epoch 27/100\n",
      "\u001b[1m165/165\u001b[0m \u001b[32m━━━━━━━━━━━━━━━━━━━━\u001b[0m\u001b[37m\u001b[0m \u001b[1m2s\u001b[0m 13ms/step - accuracy: 0.9434 - loss: 0.1475 - val_accuracy: 0.9133 - val_loss: 0.1809\n",
      "Epoch 28/100\n",
      "\u001b[1m165/165\u001b[0m \u001b[32m━━━━━━━━━━━━━━━━━━━━\u001b[0m\u001b[37m\u001b[0m \u001b[1m2s\u001b[0m 13ms/step - accuracy: 0.9490 - loss: 0.1312 - val_accuracy: 0.9467 - val_loss: 0.1389\n",
      "Epoch 29/100\n",
      "\u001b[1m165/165\u001b[0m \u001b[32m━━━━━━━━━━━━━━━━━━━━\u001b[0m\u001b[37m\u001b[0m \u001b[1m2s\u001b[0m 13ms/step - accuracy: 0.9453 - loss: 0.1331 - val_accuracy: 0.9583 - val_loss: 0.0920\n",
      "Epoch 30/100\n",
      "\u001b[1m165/165\u001b[0m \u001b[32m━━━━━━━━━━━━━━━━━━━━\u001b[0m\u001b[37m\u001b[0m \u001b[1m2s\u001b[0m 13ms/step - accuracy: 0.9490 - loss: 0.1322 - val_accuracy: 0.8217 - val_loss: 0.6345\n",
      "Epoch 31/100\n",
      "\u001b[1m165/165\u001b[0m \u001b[32m━━━━━━━━━━━━━━━━━━━━\u001b[0m\u001b[37m\u001b[0m \u001b[1m2s\u001b[0m 13ms/step - accuracy: 0.9403 - loss: 0.1626 - val_accuracy: 0.9533 - val_loss: 0.1041\n",
      "Epoch 32/100\n",
      "\u001b[1m165/165\u001b[0m \u001b[32m━━━━━━━━━━━━━━━━━━━━\u001b[0m\u001b[37m\u001b[0m \u001b[1m2s\u001b[0m 13ms/step - accuracy: 0.9444 - loss: 0.1408 - val_accuracy: 0.9200 - val_loss: 0.2024\n",
      "Epoch 33/100\n",
      "\u001b[1m165/165\u001b[0m \u001b[32m━━━━━━━━━━━━━━━━━━━━\u001b[0m\u001b[37m\u001b[0m \u001b[1m2s\u001b[0m 13ms/step - accuracy: 0.9459 - loss: 0.1386 - val_accuracy: 0.9567 - val_loss: 0.1083\n",
      "Epoch 34/100\n",
      "\u001b[1m165/165\u001b[0m \u001b[32m━━━━━━━━━━━━━━━━━━━━\u001b[0m\u001b[37m\u001b[0m \u001b[1m2s\u001b[0m 13ms/step - accuracy: 0.9457 - loss: 0.1348 - val_accuracy: 0.9600 - val_loss: 0.0900\n",
      "Epoch 35/100\n",
      "\u001b[1m165/165\u001b[0m \u001b[32m━━━━━━━━━━━━━━━━━━━━\u001b[0m\u001b[37m\u001b[0m \u001b[1m2s\u001b[0m 13ms/step - accuracy: 0.9463 - loss: 0.1340 - val_accuracy: 0.8733 - val_loss: 0.2670\n",
      "Epoch 36/100\n",
      "\u001b[1m165/165\u001b[0m \u001b[32m━━━━━━━━━━━━━━━━━━━━\u001b[0m\u001b[37m\u001b[0m \u001b[1m2s\u001b[0m 13ms/step - accuracy: 0.9489 - loss: 0.1327 - val_accuracy: 0.9550 - val_loss: 0.1197\n",
      "Epoch 37/100\n",
      "\u001b[1m165/165\u001b[0m \u001b[32m━━━━━━━━━━━━━━━━━━━━\u001b[0m\u001b[37m\u001b[0m \u001b[1m2s\u001b[0m 13ms/step - accuracy: 0.9491 - loss: 0.1320 - val_accuracy: 0.9400 - val_loss: 0.1407\n",
      "Epoch 38/100\n",
      "\u001b[1m165/165\u001b[0m \u001b[32m━━━━━━━━━━━━━━━━━━━━\u001b[0m\u001b[37m\u001b[0m \u001b[1m2s\u001b[0m 13ms/step - accuracy: 0.9498 - loss: 0.1283 - val_accuracy: 0.9550 - val_loss: 0.1082\n",
      "Epoch 39/100\n",
      "\u001b[1m165/165\u001b[0m \u001b[32m━━━━━━━━━━━━━━━━━━━━\u001b[0m\u001b[37m\u001b[0m \u001b[1m2s\u001b[0m 13ms/step - accuracy: 0.9509 - loss: 0.1268 - val_accuracy: 0.9500 - val_loss: 0.1049\n",
      "Test loss: 0.09000951051712036\n",
      "Test accuracy: 0.9599999785423279\n"
     ]
    }
   ],
   "source": [
    "model.fit(x_train, y_train,\n",
    "          batch_size=batch_size,\n",
    "          epochs=epochs,\n",
    "          verbose=1,\n",
    "          validation_data=(x_test, y_test), callbacks=[early_stop])\n",
    "score = model.evaluate(x_test, y_test, verbose=0)\n",
    "print('Test loss:', score[0])\n",
    "print('Test accuracy:', score[1])"
   ]
  },
  {
   "cell_type": "code",
   "execution_count": 42,
   "metadata": {
    "papermill": {
     "duration": 2.029221,
     "end_time": "2020-08-22T12:30:21.395768",
     "exception": false,
     "start_time": "2020-08-22T12:30:19.366547",
     "status": "completed"
    },
    "tags": []
   },
   "outputs": [
    {
     "name": "stderr",
     "output_type": "stream",
     "text": [
      "WARNING:absl:You are saving your model as an HDF5 file via `model.save()` or `keras.saving.save_model(model)`. This file format is considered legacy. We recommend using instead the native Keras format, e.g. `model.save('my_model.keras')` or `keras.saving.save_model(model, 'my_model.keras')`. \n"
     ]
    }
   ],
   "source": [
    "model.save('model.h5')"
   ]
  },
  {
   "cell_type": "code",
   "execution_count": 43,
   "metadata": {},
   "outputs": [],
   "source": [
    "model.save('model.keras')"
   ]
  },
  {
   "cell_type": "code",
   "execution_count": 51,
   "metadata": {},
   "outputs": [
    {
     "name": "stdout",
     "output_type": "stream",
     "text": [
      "INFO:tensorflow:Assets written to: /tmp/tmpe8sr2bo0/assets\n"
     ]
    },
    {
     "name": "stderr",
     "output_type": "stream",
     "text": [
      "INFO:tensorflow:Assets written to: /tmp/tmpe8sr2bo0/assets\n"
     ]
    },
    {
     "name": "stdout",
     "output_type": "stream",
     "text": [
      "Saved artifact at '/tmp/tmpe8sr2bo0'. The following endpoints are available:\n",
      "\n",
      "* Endpoint 'serve'\n",
      "  args_0 (POSITIONAL_ONLY): TensorSpec(shape=(None, 256, 22, 1), dtype=tf.float32, name='input_layer_2')\n",
      "Output Type:\n",
      "  TensorSpec(shape=(None, 2), dtype=tf.float32, name=None)\n",
      "Captures:\n",
      "  137330089927184: TensorSpec(shape=(), dtype=tf.resource, name=None)\n",
      "  137330089925456: TensorSpec(shape=(), dtype=tf.resource, name=None)\n",
      "  137330089926992: TensorSpec(shape=(), dtype=tf.resource, name=None)\n",
      "  137330089928720: TensorSpec(shape=(), dtype=tf.resource, name=None)\n",
      "  137330089920848: TensorSpec(shape=(), dtype=tf.resource, name=None)\n",
      "  137330089927760: TensorSpec(shape=(), dtype=tf.resource, name=None)\n",
      "  137330089926416: TensorSpec(shape=(), dtype=tf.resource, name=None)\n",
      "  137330089927952: TensorSpec(shape=(), dtype=tf.resource, name=None)\n"
     ]
    },
    {
     "name": "stderr",
     "output_type": "stream",
     "text": [
      "W0000 00:00:1726931711.700129    6794 tf_tfl_flatbuffer_helpers.cc:392] Ignored output_format.\n",
      "W0000 00:00:1726931711.700142    6794 tf_tfl_flatbuffer_helpers.cc:395] Ignored drop_control_dependency.\n",
      "2024-09-21 20:45:11.700372: I tensorflow/cc/saved_model/reader.cc:83] Reading SavedModel from: /tmp/tmpe8sr2bo0\n",
      "2024-09-21 20:45:11.700916: I tensorflow/cc/saved_model/reader.cc:52] Reading meta graph with tags { serve }\n",
      "2024-09-21 20:45:11.700935: I tensorflow/cc/saved_model/reader.cc:147] Reading SavedModel debug info (if present) from: /tmp/tmpe8sr2bo0\n",
      "2024-09-21 20:45:11.705096: I tensorflow/compiler/mlir/mlir_graph_optimization_pass.cc:388] MLIR V1 optimization pass is not enabled\n",
      "2024-09-21 20:45:11.705771: I tensorflow/cc/saved_model/loader.cc:236] Restoring SavedModel bundle.\n",
      "2024-09-21 20:45:11.738220: I tensorflow/cc/saved_model/loader.cc:220] Running initialization op on SavedModel bundle at path: /tmp/tmpe8sr2bo0\n",
      "2024-09-21 20:45:11.746250: I tensorflow/cc/saved_model/loader.cc:462] SavedModel load for tags { serve }; Status: success: OK. Took 45880 microseconds.\n"
     ]
    }
   ],
   "source": [
    "import tensorflow as tf\n",
    "\n",
    "# Load your model (for example, a Keras model)\n",
    "model = tf.keras.models.load_model('model.keras')\n",
    "\n",
    "# Convert the model\n",
    "converter = tf.lite.TFLiteConverter.from_keras_model(model)\n",
    "tflite_model = converter.convert()\n"
   ]
  },
  {
   "cell_type": "code",
   "execution_count": 52,
   "metadata": {
    "scrolled": true
   },
   "outputs": [
    {
     "name": "stdout",
     "output_type": "stream",
     "text": [
      "INFO:tensorflow:Assets written to: /tmp/tmpqgyafpz4/assets\n"
     ]
    },
    {
     "name": "stderr",
     "output_type": "stream",
     "text": [
      "INFO:tensorflow:Assets written to: /tmp/tmpqgyafpz4/assets\n"
     ]
    },
    {
     "name": "stdout",
     "output_type": "stream",
     "text": [
      "Saved artifact at '/tmp/tmpqgyafpz4'. The following endpoints are available:\n",
      "\n",
      "* Endpoint 'serve'\n",
      "  args_0 (POSITIONAL_ONLY): TensorSpec(shape=(None, 256, 22, 1), dtype=tf.float32, name='input_layer_2')\n",
      "Output Type:\n",
      "  TensorSpec(shape=(None, 2), dtype=tf.float32, name=None)\n",
      "Captures:\n",
      "  137330089927184: TensorSpec(shape=(), dtype=tf.resource, name=None)\n",
      "  137330089925456: TensorSpec(shape=(), dtype=tf.resource, name=None)\n",
      "  137330089926992: TensorSpec(shape=(), dtype=tf.resource, name=None)\n",
      "  137330089928720: TensorSpec(shape=(), dtype=tf.resource, name=None)\n",
      "  137330089920848: TensorSpec(shape=(), dtype=tf.resource, name=None)\n",
      "  137330089927760: TensorSpec(shape=(), dtype=tf.resource, name=None)\n",
      "  137330089926416: TensorSpec(shape=(), dtype=tf.resource, name=None)\n",
      "  137330089927952: TensorSpec(shape=(), dtype=tf.resource, name=None)\n"
     ]
    },
    {
     "name": "stderr",
     "output_type": "stream",
     "text": [
      "W0000 00:00:1726932025.336330    6794 tf_tfl_flatbuffer_helpers.cc:392] Ignored output_format.\n",
      "W0000 00:00:1726932025.336343    6794 tf_tfl_flatbuffer_helpers.cc:395] Ignored drop_control_dependency.\n",
      "2024-09-21 20:50:25.336468: I tensorflow/cc/saved_model/reader.cc:83] Reading SavedModel from: /tmp/tmpqgyafpz4\n",
      "2024-09-21 20:50:25.336868: I tensorflow/cc/saved_model/reader.cc:52] Reading meta graph with tags { serve }\n",
      "2024-09-21 20:50:25.336877: I tensorflow/cc/saved_model/reader.cc:147] Reading SavedModel debug info (if present) from: /tmp/tmpqgyafpz4\n",
      "2024-09-21 20:50:25.340623: I tensorflow/cc/saved_model/loader.cc:236] Restoring SavedModel bundle.\n",
      "2024-09-21 20:50:25.364860: I tensorflow/cc/saved_model/loader.cc:220] Running initialization op on SavedModel bundle at path: /tmp/tmpqgyafpz4\n",
      "2024-09-21 20:50:25.371105: I tensorflow/cc/saved_model/loader.cc:462] SavedModel load for tags { serve }; Status: success: OK. Took 34639 microseconds.\n"
     ]
    }
   ],
   "source": [
    "# Save the model to a .tflite file\n",
    "with open('model.tflite', 'wb') as f:\n",
    "    f.write(tflite_model)\n",
    "converter.optimizations = [tf.lite.Optimize.DEFAULT]\n",
    "tflite_model = converter.convert()\n"
   ]
  },
  {
   "cell_type": "code",
   "execution_count": null,
   "metadata": {},
   "outputs": [],
   "source": []
  }
 ],
 "metadata": {
  "kernelspec": {
   "display_name": "Python 3 (ipykernel)",
   "language": "python",
   "name": "python3"
  },
  "language_info": {
   "codemirror_mode": {
    "name": "ipython",
    "version": 3
   },
   "file_extension": ".py",
   "mimetype": "text/x-python",
   "name": "python",
   "nbconvert_exporter": "python",
   "pygments_lexer": "ipython3",
   "version": "3.12.4"
  },
  "papermill": {
   "duration": 3793.428291,
   "end_time": "2020-08-22T12:30:23.732725",
   "environment_variables": {},
   "exception": null,
   "input_path": "__notebook__.ipynb",
   "output_path": "__notebook__.ipynb",
   "parameters": {},
   "start_time": "2020-08-22T11:27:10.304434",
   "version": "2.1.0"
  }
 },
 "nbformat": 4,
 "nbformat_minor": 4
}
